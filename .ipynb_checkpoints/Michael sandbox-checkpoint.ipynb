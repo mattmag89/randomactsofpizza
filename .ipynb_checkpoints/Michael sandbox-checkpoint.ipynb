{
 "cells": [
  {
   "cell_type": "code",
   "execution_count": 4,
   "metadata": {
    "collapsed": false,
    "scrolled": true
   },
   "outputs": [
    {
     "name": "stdout",
     "output_type": "stream",
     "text": [
      "\n"
     ]
    }
   ],
   "source": [
    "'''\n",
    "Random acts of pizza Kaggle competition\n",
    "https://www.kaggle.com/c/random-acts-of-pizza\n",
    "'''\n",
    "\n",
    "###IMPORT\n",
    "# General libraries.\n",
    "import pandas as pd\n",
    "import re\n",
    "import numpy as np\n",
    "import matplotlib.pyplot as plt\n",
    "import json\n",
    "from pprint import pprint\n",
    "import datetime\n",
    "\n",
    "# SK-learn libraries for learning.\n",
    "from sklearn.pipeline import Pipeline\n",
    "from sklearn.neighbors import KNeighborsClassifier\n",
    "from sklearn.linear_model import LogisticRegression\n",
    "from sklearn.naive_bayes import BernoulliNB\n",
    "from sklearn.naive_bayes import MultinomialNB\n",
    "from sklearn.grid_search import GridSearchCV\n",
    "\n",
    "# SK-learn libraries for evaluation.\n",
    "from sklearn.metrics import confusion_matrix\n",
    "from sklearn import metrics\n",
    "from sklearn.metrics import classification_report\n",
    "\n",
    "\n",
    "\n",
    "###LOAD IN DATA\n",
    "with open('train.json','r') as fp: \n",
    "    json_data = json.load(fp)\n",
    "\n",
    "df = pd.io.json.json_normalize(json_data)\n",
    "\n",
    "#print df\n",
    "\n",
    "\n",
    "\"\"\"\n",
    "#shuffle and split\n",
    "random.shuffle(XY)\n",
    "train = XY[0:len(XY)/2]\n",
    "dev = XY[len(XY)/2:]\n",
    "\n",
    "#print summary\n",
    "print 'Size of training set: ',len(train)\n",
    "print 'Size of dev set: ',len(dev)\n",
    "\n",
    "print 'first example:\\n'\n",
    "for key in train[0]:\n",
    "    print key\n",
    "    print train[0][key], '\\n'\n",
    "\"\"\"\n",
    "print ''"
   ]
  },
  {
   "cell_type": "code",
   "execution_count": 23,
   "metadata": {
    "collapsed": false
   },
   "outputs": [
    {
     "name": "stdout",
     "output_type": "stream",
     "text": [
      "[0, 1, 2, 3, 4, 5, 6, 7, 8, 9]\n",
      "[9, 4, 7, 6, 5, 1, 0, 8, 2, 3]\n",
      "[9, 4, 7, 6, 5, 1, 0, 8, 2, 3]\n"
     ]
    }
   ],
   "source": [
    "a = range(10)\n",
    "print a\n",
    "random.shuffle(a)\n",
    "print a\n",
    "print a"
   ]
  },
  {
   "cell_type": "code",
   "execution_count": 6,
   "metadata": {
    "collapsed": false
   },
   "outputs": [
    {
     "name": "stdout",
     "output_type": "stream",
     "text": [
      "0      t3_l25d7\n",
      "1      t3_rcb83\n",
      "2      t3_lpu5j\n",
      "3      t3_mxvj3\n",
      "4     t3_1i6486\n",
      "5     t3_14gmeb\n",
      "6      t3_wcw5m\n",
      "7      t3_of16d\n",
      "8     t3_1ioo1k\n",
      "9      t3_k0l9j\n",
      "10    t3_16upcl\n",
      "11     t3_z7nxl\n",
      "12     t3_j1w49\n",
      "13     t3_u90cl\n",
      "14     t3_nrc9b\n",
      "...\n",
      "4025    t3_1nvvnk\n",
      "4026    t3_1ehki4\n",
      "4027     t3_v259r\n",
      "4028     t3_wo39k\n",
      "4029     t3_ixx53\n",
      "4030    t3_1num5h\n",
      "4031     t3_pvqb0\n",
      "4032    t3_1bna25\n",
      "4033    t3_1im2is\n",
      "4034     t3_j853t\n",
      "4035    t3_1hpv57\n",
      "4036    t3_1lzcwr\n",
      "4037    t3_1f77ml\n",
      "4038     t3_q875f\n",
      "4039    t3_189pw1\n",
      "Name: request_id, Length: 4040, dtype: object\n"
     ]
    }
   ],
   "source": [
    "print df['request_id']"
   ]
  },
  {
   "cell_type": "markdown",
   "metadata": {},
   "source": []
  }
 ],
 "metadata": {
  "kernelspec": {
   "display_name": "Python 2",
   "language": "python",
   "name": "python2"
  },
  "language_info": {
   "codemirror_mode": {
    "name": "ipython",
    "version": 2
   },
   "file_extension": ".py",
   "mimetype": "text/x-python",
   "name": "python",
   "nbconvert_exporter": "python",
   "pygments_lexer": "ipython2",
   "version": "2.7.6"
  }
 },
 "nbformat": 4,
 "nbformat_minor": 0
}
