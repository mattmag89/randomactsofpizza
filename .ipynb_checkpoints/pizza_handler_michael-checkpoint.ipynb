{
 "cells": [
  {
   "cell_type": "markdown",
   "metadata": {},
   "source": [
    "Notes:\n",
    "    \n",
    "14Apr15: *Changed Model's 'test' method to take the type of report as input. We should be using AUC most of the time (that is how the comp is scored) but might be useful to use classificaition report sometimes.\n",
    "*Classes start with caps, functions/methods in camel case\n",
    "\n",
    "TODO:\n",
    "*Add getter to \"model\" for classification results\n",
    "\n",
    "*Fix init (Mike to do) to make pythonic. Also have it accept params so our classes can be used for grid searching WITHOUT breaking existing classes\n",
    "\n",
    "*Make GridSearchCV work\n",
    "\n",
    "*Visualize all numeric data\n",
    "\n",
    "*Normalize data?"
   ]
  },
  {
   "cell_type": "code",
   "execution_count": 577,
   "metadata": {
    "collapsed": false
   },
   "outputs": [],
   "source": [
    "'''\n",
    "This cell's function:\n",
    "Import all libraries that will be needed throughout document\n",
    "'''\n",
    "# This tells matplotlib not to try opening a new window for each plot.\n",
    "%matplotlib inline\n",
    "\n",
    "# General libraries.\n",
    "import re\n",
    "import numpy as np\n",
    "import matplotlib.pyplot as plt\n",
    "import json\n",
    "from pprint import pprint\n",
    "import datetime\n",
    "import pandas as pd\n",
    "\n",
    "# SK-learn libraries for learning.\n",
    "from sklearn.pipeline import Pipeline\n",
    "from sklearn.neighbors import KNeighborsClassifier\n",
    "from sklearn.linear_model import LogisticRegression\n",
    "from sklearn.naive_bayes import BernoulliNB, MultinomialNB, GaussianNB\n",
    "from sklearn.grid_search import GridSearchCV\n",
    "from sklearn.tree import DecisionTreeClassifier\n",
    "from sklearn.ensemble import RandomForestClassifier\n",
    "\n",
    "# SK-learn libraries for evaluation.\n",
    "from sklearn.metrics import confusion_matrix\n",
    "from sklearn import metrics\n",
    "from sklearn.metrics import classification_report\n",
    "from sklearn.cross_validation import cross_val_score\n",
    "\n",
    "# SK-learn libraries for feature extraction from text.\n",
    "from sklearn.feature_extraction.text import CountVectorizer, TfidfVectorizer\n",
    "\n",
    "# Text processing libraries\n",
    "from nltk.stem import PorterStemmer\n",
    "#####################import enchant.checker #CAN't INSTALL THIS SINCE I HAVE 64 BIT PYTHON :( Michael\n",
    "from nltk.corpus import stopwords\n",
    "from sklearn.preprocessing import normalize\n",
    "\n",
    "# PCA / GMM\n",
    "import time\n",
    "from sklearn.decomposition import PCA\n",
    "from sklearn.cluster import KMeans\n",
    "from sklearn.mixture import GMM\n",
    "from matplotlib.colors import LogNorm   \n"
   ]
  },
  {
   "cell_type": "code",
   "execution_count": 351,
   "metadata": {
    "collapsed": false
   },
   "outputs": [
    {
     "data": {
      "text/plain": [
       "(4040, 3030, 1010)"
      ]
     },
     "execution_count": 351,
     "metadata": {},
     "output_type": "execute_result"
    }
   ],
   "source": [
    "class Data_handler():\n",
    "    \n",
    "    if __name__ == \"__main__\":\n",
    "        dfTrain_full = pd.DataFrame()\n",
    "        dfTest = pd.DataFrame()\n",
    "        dfTrain = pd.DataFrame()\n",
    "        dfDev = pd.DataFrame()\n",
    "        trainColumnNames = []\n",
    "        testColumnNames = []\n",
    "    \n",
    "    def initialize_data(self,train_json, test_json, prop_train):\n",
    "        #Load in data as panda dataframes\n",
    "        with open(train_json,'r') as fp: \n",
    "            json_data = json.load(fp)\n",
    "        self.dfTrain_full = pd.io.json.json_normalize(json_data)\n",
    "\n",
    "        with open(test_json,'r') as fp: \n",
    "            json_data = json.load(fp)\n",
    "        self.dfTest = pd.io.json.json_normalize(json_data)\n",
    "\n",
    "        # Set np seed\n",
    "        np.random.seed(0)\n",
    "\n",
    "        #Shuffle train data and split into train and dev\n",
    "        self.dfTrain_full.reindex(np.random.permutation(self.dfTrain_full.index)) #shuffle\n",
    "        nTrain_full = self.dfTrain_full.shape[0]\n",
    "        self.dfTrain = self.dfTrain_full[:int(nTrain_full*prop_train)]\n",
    "        self.dfDev = self.dfTrain_full[int(nTrain_full*prop_train):]\n",
    "        \n",
    "        #Save number of observations in train and dev\n",
    "        nTrain = self.dfTrain.shape[0]\n",
    "        nDev = self.dfDev.shape[0]\n",
    "\n",
    "        #Save column names for reference\n",
    "        self.trainColumnNames = self.dfTrain.columns.tolist()\n",
    "        self.testColumnNames = self.dfTest.columns.tolist() #Note test features is only a subset!\n",
    "        \n",
    "        return nTrain_full, nTrain, nDev ################# WHY DOES THIS GET RETURNED? WHAT IS IT USED FOR?\n",
    "    \n",
    "    def getTrainFull(self):\n",
    "        return self.dfTrain_full   \n",
    "    def getTest(self):\n",
    "        return self.dfTest   \n",
    "    def getTrain(self):\n",
    "        return self.dfTrain   \n",
    "    def getDev(self):\n",
    "        return self.dfDev    \n",
    "    def getTrainColumnNames(self):\n",
    "        return self.trainColumnNames   \n",
    "    def getTestColumnNames(self):\n",
    "        return self.testColumnNames\n",
    "    \n",
    "# Load in our data to master_data. Proportion in train vs dev is set here. Changing it will take effect throughout everything else in the script (the magic of classes!)\n",
    "master_data = Data_handler()\n",
    "master_data.initialize_data('train.json', 'test.json',.75)\n"
   ]
  },
  {
   "cell_type": "code",
   "execution_count": 660,
   "metadata": {
    "collapsed": false
   },
   "outputs": [],
   "source": [
    "class FeatureEngineer():\n",
    "    '''\n",
    "    Module that contains some of our feature engineering methods. \n",
    "    Does not contain instance variables!\n",
    "    Outputs np arrays or dataframes as needed\n",
    "    '''\n",
    "    def separateTimestamp(self,df):\n",
    "        '''\n",
    "        separates time stamp (UTC) into month, day, hour. If user's local time is of interest, \n",
    "        use the non UTC data\n",
    "        input: any dataFrame containing the timestamp data\n",
    "        '''\n",
    "\n",
    "        timeStamps = df['unix_timestamp_of_request_utc'].values #numpy array of timestamps\n",
    "        timeStampsSeparate = [] #init new\n",
    "\n",
    "        # Loop over timestamps\n",
    "        for ts in timeStamps:\n",
    "            # Pull out relevant time info\n",
    "            d = datetime.datetime.fromtimestamp(ts)\n",
    "            month = d.strftime(\"%m\")\n",
    "            day_of_month = d.strftime(\"%d\")\n",
    "            hour = d.strftime(\"%H\")\n",
    "            # Append to results\n",
    "            timeStampsSeparate.append([int(month),int(day_of_month),int(hour)])\n",
    "        \n",
    "        #manually create labels\n",
    "        labels = ['month','day_of_month','hour']\n",
    "        #convert from python list to ndarray\n",
    "        return np.asarray(timeStampsSeparate), labels\n",
    "\n",
    "    def newTimeInfo(self,df):\n",
    "        '''\n",
    "        New expressions of time e.g day of week\n",
    "        '''\n",
    "        \n",
    "        timeStamps = df['unix_timestamp_of_request'].values #LOCAL time\n",
    "        timeStampsSeparate = [] #init new\n",
    "\n",
    "        # Loop over timestamps\n",
    "        for ts in timeStamps:\n",
    "            # Pull out relevant time info\n",
    "            d = datetime.datetime.fromtimestamp(ts)\n",
    "            day_of_week = d.isoweekday()\n",
    "            local_time =d.strftime(\"%H\")\n",
    "            # Append to results\n",
    "            timeStampsSeparate.append([int(day_of_week),int(local_time)])\n",
    "        \n",
    "        #manually create labels\n",
    "        labels = ['day_of_week','local_time']        \n",
    "        #convert from python list to ndarray\n",
    "        return np.asarray(timeStampsSeparate), labels\n",
    "        \n",
    "    def selectedNumericFeatures(self,df):\n",
    "        '''\n",
    "        Some hand picked numeric features that seem to work well in logistic regression\n",
    "        Dependency: separateTimestamp\n",
    "        '''\n",
    "        colNames = [master_data.getTestColumnNames()[i] for i in [5,7,8,9]] #hand picked to be plausible, not optimal \n",
    "        #numeric data\n",
    "        dfNum = df[colNames].values\n",
    "        #convert time stamp into nice format\n",
    "        dfTime, labelsTime = self.separateTimestamp(df)\n",
    "        #merge\n",
    "        combinedData = np.column_stack((dfNum,dfTime))\n",
    "        combinedLabels = colNames+labelsTime\n",
    "        return combinedData, combinedLabels\n",
    "    \n",
    "    def allNumericFeatures(self,df):\n",
    "        '''\n",
    "        All of the numeric features that come standard.\n",
    "        Dependency: separateTimestamp\n",
    "        '''\n",
    "        colNames = [master_data.getTestColumnNames()[i] for i in [4,5,6,7,8,9,10,12,13]] \n",
    "        #numeric data\n",
    "        dfNum = df[colNames].values\n",
    "        #convert time stamp into nice format\n",
    "        dfTime, labelsTime = self.separateTimestamp(df)\n",
    "        ##new time\n",
    "        #dfTimeNew, labelsTimeNew = self.newTimeInfo(df)\n",
    "        #merge\n",
    "        combinedData = np.column_stack((dfNum,dfTime))#,dfTimeNew))\n",
    "        combinedLabels = colNames+labelsTime#+labelsTimeNew\n",
    "        return combinedData, combinedLabels\n",
    "    \n",
    "    def simpleNewFeatures(self,df):\n",
    "        '''\n",
    "        Basic self explanatory features.\n",
    "        Input: whole df\n",
    "        '''\n",
    "        \n",
    "        #From text\n",
    "        title_length = [len(t) for t in df['request_title'].values]\n",
    "        req_length = [len(t) for t in df['request_text_edit_aware'].values]\n",
    "        avg_word_length = [float(len(t))/len(t.split(' ')) for t in df['request_text_edit_aware'].values] #complexity of lang\n",
    "        title_caps_norm = [sum(1 for c in t if c.isupper())/(float(len(t))+1) for t in df['request_title'].values]\n",
    "        req_caps_norm = [sum(1 for c in t if c.isupper())/(float(len(t))+1) for t in df['request_text_edit_aware'].values]\n",
    "        #num_all_caps_words\n",
    "        #num_repeated_words #perhaps normalize and/or remove shorter words\n",
    "        \n",
    "        ###special chars in text\n",
    "        num_numbers_norm = [sum(1 for c in t if c.isdigit())/(float(len(t))+1) for t in df['request_text_edit_aware'].values]\n",
    "        num_currency_chars_norm = [sum(1 for c in t if c in '$')/(float(len(t))+1) for t in df['request_text_edit_aware'].values]\n",
    "        num_exclamation_norm = [sum(1 for c in t if c in '!')/(float(len(t))+1) for t in df['request_text_edit_aware'].values]\n",
    "        num_commas_norm = [sum(1 for c in t if c in ',')/(float(len(t))+1) for t in df['request_text_edit_aware'].values]\n",
    "        \n",
    "        ###language\n",
    "        #grammar_errors #normalized for request length\n",
    "        #spelling_errors #normalized for request length\n",
    "        \n",
    "        f = np.asarray([title_length,\n",
    "                          req_length,\n",
    "                          avg_word_length,\n",
    "                          title_caps_norm,\n",
    "                          req_caps_norm,\n",
    "                          num_numbers_norm,\n",
    "                          num_currency_chars_norm,\n",
    "                          num_exclamation_norm,\n",
    "                          num_commas_norm]).T\n",
    "        \n",
    "        labels = ['title_length',\n",
    "                  'req_length',\n",
    "                  'avg_word_length',\n",
    "                  'title_caps_norm',\n",
    "                  'req_caps_norm',\n",
    "                  'num_numbers_norm',\n",
    "                  'num_currency_chars_norm',\n",
    "                  'num_exclamation_norm',\n",
    "                  'num_commas_norm']\n",
    "        \n",
    "        return f,labels\n",
    "    \n",
    "    def augNumericFeatures(self,df):\n",
    "        f1, l1 = self.simpleNewFeatures(df)\n",
    "        f2, l2 = self.allNumericFeatures(df)\n",
    "        return np.column_stack((f1,f2)),l1+l2\n",
    "    \n",
    "    def reducedEnsemble(self,df):\n",
    "        '''\n",
    "        reduced set of numeric + ensemble features for use in DT or RF \n",
    "        '''\n",
    "        colNames = [master_data.getTestColumnNames()[i] for i in [4,10,12,13]] \n",
    "        #numeric data\n",
    "        f_num = df[colNames].values\n",
    "        f,l = self.simpleNewFeatures(df)\n",
    "        l_new = np.asarray(l)[[0,1,2,3,4,8]].tolist()\n",
    "        f_new = f[:,[0,1,2,3,4,8]]\n",
    "        #merge\n",
    "        combinedData = np.column_stack((f_num,f_new))\n",
    "        combinedLabels = colNames+l_new\n",
    "        return combinedData, combinedLabels\n",
    "        \n",
    "        \n",
    "    def customNGrams(self,df):\n",
    "        '''\n",
    "        N Grams built by intuition\n",
    "        '''\n",
    "        #pay_it_forward = some regex to find phrase \"pay it forward\"\n",
    "        raise NotImplementedError\n",
    "\n",
    "    def reVectorizer(self,fitted_model,n_keep = 100):\n",
    "        '''\n",
    "        This vectorizer prunes features away based on the importance rated by fitted_model.\n",
    "        '''\n",
    "        #extract data from fitted_model\n",
    "        c = fitted_model.c\n",
    "        importances = c.coef_[0,:]\n",
    "        old_names = fitted_model.feature_names\n",
    "        old_fit_data = fitted_model.fit_data\n",
    "        old_predict_data = fitted_model.predict_data\n",
    "\n",
    "        #sort features by importance\n",
    "        ind = np.argsort(-np.absolute(importances))[:n_keep]\n",
    "\n",
    "        #create pruned feature set\n",
    "        new_names = np.asarray(old_names)[ind]\n",
    "        new_fit = old_fit_data[:,ind]\n",
    "        new_predict = old_predict_data[:,ind]\n",
    "        \n",
    "        return new_fit,new_predict,new_names\n",
    "        \n",
    "fe = FeatureEngineer()\n"
   ]
  },
  {
   "cell_type": "code",
   "execution_count": 353,
   "metadata": {
    "collapsed": false
   },
   "outputs": [
    {
     "name": "stdout",
     "output_type": "stream",
     "text": [
      "<type 'list'>\n"
     ]
    }
   ],
   "source": [
    "a = range(5)\n",
    "print type(np.asarray(a)[[0,3,2]].tolist())"
   ]
  },
  {
   "cell_type": "code",
   "execution_count": 651,
   "metadata": {
    "collapsed": false
   },
   "outputs": [],
   "source": [
    "class Model(object):\n",
    "    '''\n",
    "    In Model and child classes, we use Fit and Predict for data sets to avoid confusion. These \n",
    "    can actually be train, dev or test in various combinations depending on how it is initialized.\n",
    "    '''\n",
    "    def __init__(self,dfFit,dfPredict):\n",
    "        self.dfFit = dfFit\n",
    "        self.dfPredict = dfPredict\n",
    "        self.fit_labels = self.dfFit['requester_received_pizza'].values\n",
    "    \n",
    "    \"\"\"\n",
    "    def mod_for_ensemble(self):\n",
    "        '''\n",
    "        Replace test data with train again. \n",
    "        Use this after init_test or init_final if you want to predict on the same data you fit with.\n",
    "        '''\n",
    "        self.test_data = self.train_data\n",
    "        self.prediction = np.zeros((len(self.test_data.values))) \n",
    "    \n",
    "    def init_final(self):\n",
    "        self.train_data = master_data.getTrainFull()\n",
    "        self.test_data = master_data.getTest()\n",
    "        self.prediction = np.zeros((len(self.test_data.values)))\n",
    "        self.train_labels = self.train_data['requester_received_pizza'].values\n",
    "    \"\"\"\n",
    "    def test(self,criteria=metrics.roc_auc_score):\n",
    "        try:\n",
    "            predict_labels = self.dfPredict['requester_received_pizza'].values\n",
    "            return criteria(predict_labels,self.prediction)\n",
    "        except:\n",
    "            return \"Failed! 'dfPredict' has no labels, no prediction present or invalid test criteria\"\n",
    "    \n",
    "    def writeSubmission(self,fileName='submit_to_kaggle.csv'):\n",
    "        try:\n",
    "            '''\n",
    "            Ensure the test data hasn't been shuffled or your labels won't match the request_id's.\n",
    "            '''\n",
    "            #extract request_id so we can match against predictions for submission to kaggle\n",
    "            req = self.dfPredict['request_id']\n",
    "            #make prediction into a pandas series\n",
    "            print self.prediction.astype(int)\n",
    "            pred_series = pd.Series(self.prediction.astype(int),name=\"requester_received_pizza\")\n",
    "            #now join into data frame\n",
    "            out = pd.concat([req,pred_series], axis=1)\n",
    "            #write data frame to csv (using kaggles sample submission csv for correct format)\n",
    "            out.to_csv(fileName,index=False)\n",
    "            print \"Written to File!\"\n",
    "        except:\n",
    "            return \"Failed! Is 'dfPredict' the test set?\"\n",
    "    \n",
    "    def getPrediction(self):\n",
    "        return self.prediction\n",
    "    \n",
    "    def gridSearch(self,params):\n",
    "        '''\n",
    "        implement GridSearchCV in class\n",
    "        '''\n",
    "        gs = GridSearchCV(self.classifier(),params,scoring='roc_auc')\n",
    "        gs.fit(self.fit_data,self.fit_labels)\n",
    "        print gs.best_params_\n",
    "        return gs\n",
    "    \n",
    "    def crossVal(self,params=None):\n",
    "        '''\n",
    "        Implement cross validation score\n",
    "        '''\n",
    "        scores = cross_val_score(self.classifier(**params),\n",
    "                                 self.fit_data,\n",
    "                                 self.fit_labels,\n",
    "                                 cv=4, scoring='roc_auc')\n",
    "        print \"Mean AUC:\", np.mean(scores)\n",
    "        return scores\n"
   ]
  },
  {
   "cell_type": "code",
   "execution_count": 652,
   "metadata": {
    "collapsed": false
   },
   "outputs": [],
   "source": [
    "class Baseline(Model):\n",
    "    '''\n",
    "    Any model just needs to implicitly inherit the model class\n",
    "    -Test this with baseline(master_data.getTrain(),master_data.getDev()) and\n",
    "                   baseline.test()\n",
    "    -Generate output with baseline(master_data.getTrainFull(),master_data.getTest()) and\n",
    "                         baseline.writeSubmission()\n",
    "    \n",
    "    This is the first model we submitted to Kaggle\n",
    "    '''\n",
    "    def __init__(self,dfFit,dfPredict):\n",
    "        Model.__init__(self,dfFit,dfPredict)\n",
    "        self.classifier = LogisticRegression\n",
    "        #how to process data\n",
    "        raw_fit = self.dfFit['request_text_edit_aware'].values\n",
    "        raw_predict = self.dfPredict['request_text_edit_aware'].values\n",
    "        self.fit_data, self.predict_data = self.vectorize(raw_fit,raw_predict)\n",
    "        \n",
    "    def run_model(self):\n",
    "        self.prediction = self.log_reg()\n",
    "\n",
    "    def vectorize(self,raw_fit,raw_predict):\n",
    "        # transform the train data\n",
    "        vectorizer_train = CountVectorizer()\n",
    "        fit_data = vectorizer_train.fit_transform(raw_fit)\n",
    "        self.feature_names = vectorizer_train.get_feature_names()\n",
    "        # transform the dev data using the same vocab\n",
    "        predict_data = vectorizer_train.transform(raw_predict)     # 'transform' function will preserve previous vocab\n",
    "        return fit_data, predict_data\n",
    "\n",
    "    def log_reg(self):\n",
    "        self.c = self.classifier()\n",
    "        self.c.fit(self.fit_data, self.fit_labels)\n",
    "        lor_pred = self.c.predict(self.predict_data)\n",
    "        # Return the prediction matrix, coefficients\n",
    "        return lor_pred\n",
    "\n",
    "    def extractFeatureImportance(self,n=50):\n",
    "        importances = self.c.coef_[0,:]\n",
    "        stdDev = np.zeros(importances.shape)\n",
    "        ind = np.argsort(-np.absolute(importances))[:n]\n",
    "        importances_sorted = importances[ind]\n",
    "        importances_names = np.asarray(self.feature_names)[ind]\n",
    "        stdDev_sorted = stdDev[ind]\n",
    "        return importances_names,importances_sorted,stdDev_sorted"
   ]
  },
  {
   "cell_type": "code",
   "execution_count": 653,
   "metadata": {
    "collapsed": true
   },
   "outputs": [],
   "source": [
    "class BaselineTuned(Baseline):\n",
    "    '''\n",
    "    Overhaul log_reg function to include tuned params\n",
    "    params found by running tuneBaseline() in Experiments cell\n",
    "    '''\n",
    "    def log_reg(self):\n",
    "        self.c = self.classifier(penalty='l1',C=0.092)\n",
    "        self.c.fit(self.fit_data, self.fit_labels)\n",
    "        lor_pred = self.c.predict(self.predict_data)\n",
    "        # Return the prediction matrix, coefficients\n",
    "        return lor_pred\n"
   ]
  },
  {
   "cell_type": "code",
   "execution_count": 654,
   "metadata": {
    "collapsed": false
   },
   "outputs": [],
   "source": [
    "class NumericModel(Model):\n",
    "    '''\n",
    "    Simple models with numeric data straight out of df\n",
    "    '''\n",
    "    def __init__(self,dfFit,dfPredict):\n",
    "        Model.__init__(self,dfFit,dfPredict)\n",
    "        self.classifier = GaussianNB\n",
    "        #how to process data\n",
    "        self.fit_data,self.feature_names = fe.augNumericFeatures(self.dfFit)\n",
    "        self.predict_data,_ = fe.augNumericFeatures(self.dfPredict)\n",
    "    \n",
    "    def run_model(self):\n",
    "        #predict\n",
    "        self.prediction = self.classify()    \n",
    "    \n",
    "    def classify(self):\n",
    "        self.c = self.classifier()\n",
    "        self.c.fit(self.fit_data, self.fit_labels)\n",
    "        return self.c.predict(self.predict_data) \n",
    "    \n",
    "    def extractFeatureImportance(self):\n",
    "        '''\n",
    "        WARNING: Not sure if this is meaningful since data is not normalized.\n",
    "        May only be meaningful with text data because that represents word counts.\n",
    "        '''\n",
    "        pass\n",
    "        '''\n",
    "        importances = self.c.coef_[0,:]\n",
    "        stdDev = np.zeros(importances.shape)\n",
    "        ind = np.argsort(-np.absolute(importances))\n",
    "        importances_sorted = importances[ind]\n",
    "        importances_names = np.asarray(self.feature_names)[ind]\n",
    "        stdDev_sorted = stdDev[ind]\n",
    "        return importances_names,importances_sorted,stdDev_sorted\n",
    "        '''"
   ]
  },
  {
   "cell_type": "code",
   "execution_count": 648,
   "metadata": {
    "collapsed": false
   },
   "outputs": [
    {
     "name": "stdout",
     "output_type": "stream",
     "text": [
      "0.530933194011\n"
     ]
    }
   ],
   "source": [
    "#Run NumericModel\n",
    "numeric_model = NumericModel(master_data.getTrain(),master_data.getDev())\n",
    "numeric_model.run_model()\n",
    "print numeric_model.test()"
   ]
  },
  {
   "cell_type": "code",
   "execution_count": 655,
   "metadata": {
    "collapsed": true
   },
   "outputs": [],
   "source": [
    "class DecisionTreeModel(Model):\n",
    "    '''\n",
    "    Basic decision tree. Runs on numeric features\n",
    "    '''\n",
    "    def __init__(self,dfFit,dfPredict):\n",
    "        Model.__init__(self,dfFit,dfPredict)\n",
    "        self.classifier = DecisionTreeClassifier\n",
    "        #how to process data\n",
    "        self.fit_data,self.feature_names = fe.augNumericFeatures(self.dfFit)\n",
    "        self.predict_data,_ = fe.augNumericFeatures(self.dfPredict)\n",
    "    \n",
    "    def run_model(self):\n",
    "        self.prediction = self.classify()  \n",
    "    \n",
    "    def classify(self):\n",
    "        self.c = self.classifier(criterion='entropy',max_depth=5) #criterion can be 'gini' or 'entropy'\n",
    "        self.c.fit(self.fit_data, self.fit_labels)\n",
    "        return self.c.predict(self.predict_data) \n",
    "        \n",
    "    def extractFeatureImportance(self):\n",
    "        importances = self.c.feature_importances_\n",
    "        stdDev = np.zeros(importances.shape)\n",
    "        ind = np.argsort(-importances)\n",
    "        importances_sorted = importances[ind]\n",
    "        importances_names = np.asarray(self.feature_names)[ind]\n",
    "        stdDev_sorted = stdDev[ind]\n",
    "        return importances_names,importances_sorted,stdDev_sorted"
   ]
  },
  {
   "cell_type": "code",
   "execution_count": 649,
   "metadata": {
    "collapsed": false
   },
   "outputs": [
    {
     "ename": "TypeError",
     "evalue": "unbound method __init__() must be called with Model instance as first argument (got DecisionTreeModel instance instead)",
     "output_type": "error",
     "traceback": [
      "\u001b[1;31m---------------------------------------------------------------------------\u001b[0m",
      "\u001b[1;31mTypeError\u001b[0m                                 Traceback (most recent call last)",
      "\u001b[1;32m<ipython-input-649-a65e8aa4f24a>\u001b[0m in \u001b[0;36m<module>\u001b[1;34m()\u001b[0m\n\u001b[0;32m      1\u001b[0m \u001b[1;31m#Run test of decision tree\u001b[0m\u001b[1;33m\u001b[0m\u001b[1;33m\u001b[0m\u001b[0m\n\u001b[1;32m----> 2\u001b[1;33m \u001b[0mdecision_tree_model\u001b[0m \u001b[1;33m=\u001b[0m \u001b[0mDecisionTreeModel\u001b[0m\u001b[1;33m(\u001b[0m\u001b[0mmaster_data\u001b[0m\u001b[1;33m.\u001b[0m\u001b[0mgetTrain\u001b[0m\u001b[1;33m(\u001b[0m\u001b[1;33m)\u001b[0m\u001b[1;33m,\u001b[0m\u001b[0mmaster_data\u001b[0m\u001b[1;33m.\u001b[0m\u001b[0mgetDev\u001b[0m\u001b[1;33m(\u001b[0m\u001b[1;33m)\u001b[0m\u001b[1;33m)\u001b[0m\u001b[1;33m\u001b[0m\u001b[0m\n\u001b[0m\u001b[0;32m      3\u001b[0m \u001b[0mdecision_tree_model\u001b[0m\u001b[1;33m.\u001b[0m\u001b[0mrun_model\u001b[0m\u001b[1;33m(\u001b[0m\u001b[1;33m)\u001b[0m\u001b[1;33m\u001b[0m\u001b[0m\n\u001b[0;32m      4\u001b[0m \u001b[1;32mprint\u001b[0m \u001b[0mdecision_tree_model\u001b[0m\u001b[1;33m.\u001b[0m\u001b[0mtest\u001b[0m\u001b[1;33m(\u001b[0m\u001b[1;33m)\u001b[0m\u001b[1;33m\u001b[0m\u001b[0m\n\u001b[0;32m      5\u001b[0m \u001b[1;33m\u001b[0m\u001b[0m\n",
      "\u001b[1;32m<ipython-input-358-ad911d25163a>\u001b[0m in \u001b[0;36m__init__\u001b[1;34m(self, dfFit, dfPredict)\u001b[0m\n\u001b[0;32m      4\u001b[0m     '''\n\u001b[0;32m      5\u001b[0m     \u001b[1;32mdef\u001b[0m \u001b[0m__init__\u001b[0m\u001b[1;33m(\u001b[0m\u001b[0mself\u001b[0m\u001b[1;33m,\u001b[0m\u001b[0mdfFit\u001b[0m\u001b[1;33m,\u001b[0m\u001b[0mdfPredict\u001b[0m\u001b[1;33m)\u001b[0m\u001b[1;33m:\u001b[0m\u001b[1;33m\u001b[0m\u001b[0m\n\u001b[1;32m----> 6\u001b[1;33m         \u001b[0mModel\u001b[0m\u001b[1;33m.\u001b[0m\u001b[0m__init__\u001b[0m\u001b[1;33m(\u001b[0m\u001b[0mself\u001b[0m\u001b[1;33m,\u001b[0m\u001b[0mdfFit\u001b[0m\u001b[1;33m,\u001b[0m\u001b[0mdfPredict\u001b[0m\u001b[1;33m)\u001b[0m\u001b[1;33m\u001b[0m\u001b[0m\n\u001b[0m\u001b[0;32m      7\u001b[0m         \u001b[0mself\u001b[0m\u001b[1;33m.\u001b[0m\u001b[0mclassifier\u001b[0m \u001b[1;33m=\u001b[0m \u001b[0mDecisionTreeClassifier\u001b[0m\u001b[1;33m\u001b[0m\u001b[0m\n\u001b[0;32m      8\u001b[0m         \u001b[1;31m#how to process data\u001b[0m\u001b[1;33m\u001b[0m\u001b[1;33m\u001b[0m\u001b[0m\n",
      "\u001b[1;31mTypeError\u001b[0m: unbound method __init__() must be called with Model instance as first argument (got DecisionTreeModel instance instead)"
     ]
    }
   ],
   "source": [
    "#Run test of decision tree\n",
    "decision_tree_model = DecisionTreeModel(master_data.getTrain(),master_data.getDev())\n",
    "decision_tree_model.run_model()\n",
    "print decision_tree_model.test()\n",
    "\n",
    "decision_tree_model.extractFeatureImportance()\n",
    "featureImportanceVisualizer(decision_tree_model)\n"
   ]
  },
  {
   "cell_type": "code",
   "execution_count": 359,
   "metadata": {
    "collapsed": false
   },
   "outputs": [],
   "source": [
    "class RandomForestModel(Model):\n",
    "    '''\n",
    "    Random Forest   \n",
    "    '''\n",
    "    def __init__(self,dfFit,dfPredict):\n",
    "        Model.__init__(self,dfFit,dfPredict)\n",
    "        self.classifier = RandomForestClassifier\n",
    "        #how to process data\n",
    "        self.fit_data,self.feature_names = fe.reducedEnsemble(self.dfFit)\n",
    "        self.predict_data,_ = fe.reducedEnsemble(self.dfPredict)\n",
    "    \n",
    "    def run_model(self):\n",
    "        #predict\n",
    "        self.prediction = self.classify()  \n",
    "    \n",
    "    def classify(self):\n",
    "        self.c = self.classifier(**{'criterion': 'entropy','n_estimators':100})#,\n",
    "                                    #max_features=10) #criterion can be 'gini' or 'entropy'\n",
    "        self.c.fit(self.fit_data, self.fit_labels)\n",
    "        return self.c.predict(self.predict_data) \n",
    "    \n",
    "    def extractFeatureImportance(self):\n",
    "        stdDev = np.std([dTree.feature_importances_ for dTree in self.c],axis=0)\n",
    "        importances = self.c.feature_importances_\n",
    "        ind = np.argsort(-importances)\n",
    "        importances_sorted = importances[ind]\n",
    "        importances_names = np.asarray(self.feature_names)[ind]\n",
    "        stdDev_sorted = stdDev[ind]\n",
    "        return importances_names,importances_sorted,stdDev_sorted\n",
    "        \n",
    "    "
   ]
  },
  {
   "cell_type": "code",
   "execution_count": 332,
   "metadata": {
    "collapsed": false
   },
   "outputs": [
    {
     "name": "stdout",
     "output_type": "stream",
     "text": [
      "0.512926871745\n"
     ]
    },
    {
     "data": {
      "image/png": "[encoded data removed]",
      "text/plain": [
       "<matplotlib.figure.Figure at 0x58c0e940>"
      ]
     },
     "metadata": {},
     "output_type": "display_data"
    }
   ],
   "source": [
    "#Test RF \n",
    "rf_model = RandomForestModel(master_data.getTrain(),master_data.getDev())\n",
    "rf_model.run_model()\n",
    "print rf_model.test()\n",
    "\n",
    "featureImportanceVisualizer(rf_model)"
   ]
  },
  {
   "cell_type": "code",
   "execution_count": 336,
   "metadata": {
    "collapsed": false
   },
   "outputs": [
    {
     "name": "stdout",
     "output_type": "stream",
     "text": [
      "{'n_estimators': 150, 'criterion': 'entropy'}\n"
     ]
    }
   ],
   "source": [
    "#RF for cross val and GS purposes\n",
    "rf_model = RandomForestModel(master_data.getTrain(),master_data.getDev())\n",
    "\n",
    "#Run grid search\n",
    "\n",
    "params = {'n_estimators' : range(10,200,10),'criterion':['entropy']}\n",
    "gs = rf_model.gridSearch(params)\n",
    "\n",
    "#params = {'max_leaf_nodes' : [8,16,32,64,128,256,512,1024,2048],'n_estimators':[50],'criterion':['entropy']}\n",
    "#gs = rf_model.gridSearch(params)"
   ]
  },
  {
   "cell_type": "code",
   "execution_count": 337,
   "metadata": {
    "collapsed": false
   },
   "outputs": [
    {
     "name": "stdout",
     "output_type": "stream",
     "text": [
      "[mean: 0.55650, std: 0.00733, params: {'n_estimators': 10, 'criterion': 'entropy'},\n",
      " mean: 0.56382, std: 0.01567, params: {'n_estimators': 20, 'criterion': 'entropy'},\n",
      " mean: 0.58505, std: 0.02700, params: {'n_estimators': 30, 'criterion': 'entropy'},\n",
      " mean: 0.56496, std: 0.02092, params: {'n_estimators': 40, 'criterion': 'entropy'},\n",
      " mean: 0.56724, std: 0.01515, params: {'n_estimators': 50, 'criterion': 'entropy'},\n",
      " mean: 0.57403, std: 0.01046, params: {'n_estimators': 60, 'criterion': 'entropy'},\n",
      " mean: 0.57437, std: 0.01702, params: {'n_estimators': 70, 'criterion': 'entropy'},\n",
      " mean: 0.57140, std: 0.02046, params: {'n_estimators': 80, 'criterion': 'entropy'},\n",
      " mean: 0.56928, std: 0.00339, params: {'n_estimators': 90, 'criterion': 'entropy'},\n",
      " mean: 0.57476, std: 0.01559, params: {'n_estimators': 100, 'criterion': 'entropy'},\n",
      " mean: 0.58673, std: 0.00392, params: {'n_estimators': 110, 'criterion': 'entropy'},\n",
      " mean: 0.57466, std: 0.00868, params: {'n_estimators': 120, 'criterion': 'entropy'},\n",
      " mean: 0.57237, std: 0.02127, params: {'n_estimators': 130, 'criterion': 'entropy'},\n",
      " mean: 0.58531, std: 0.01436, params: {'n_estimators': 140, 'criterion': 'entropy'},\n",
      " mean: 0.58951, std: 0.01510, params: {'n_estimators': 150, 'criterion': 'entropy'},\n",
      " mean: 0.58567, std: 0.01796, params: {'n_estimators': 160, 'criterion': 'entropy'},\n",
      " mean: 0.57857, std: 0.01381, params: {'n_estimators': 170, 'criterion': 'entropy'},\n",
      " mean: 0.57757, std: 0.01492, params: {'n_estimators': 180, 'criterion': 'entropy'},\n",
      " mean: 0.57651, std: 0.00765, params: {'n_estimators': 190, 'criterion': 'entropy'}]\n"
     ]
    }
   ],
   "source": [
    "pprint(gs.grid_scores_)"
   ]
  },
  {
   "cell_type": "code",
   "execution_count": 338,
   "metadata": {
    "collapsed": false
   },
   "outputs": [
    {
     "name": "stdout",
     "output_type": "stream",
     "text": [
      "Mean AUC: 0.57948036854\n"
     ]
    },
    {
     "data": {
      "text/plain": [
       "array([ 0.56046427,  0.58153965,  0.56301904,  0.61289852])"
      ]
     },
     "execution_count": 338,
     "metadata": {},
     "output_type": "execute_result"
    }
   ],
   "source": [
    "#now cross val on best GS values\n",
    "rf_model.crossVal({'n_estimators': 150, 'criterion': 'entropy'})\n"
   ]
  },
  {
   "cell_type": "code",
   "execution_count": 360,
   "metadata": {
    "collapsed": true
   },
   "outputs": [],
   "source": [
    "class EnsembleForest(RandomForestModel):\n",
    "    '''\n",
    "    RF that incorporates text data via votes of another classifier\n",
    "    BROKEN: Because ensemble1 init_test and doesn't ever init_final, you can't use this model's \n",
    "    init_final or finalize.\n",
    "    '''\n",
    "    def __init__(self,dfFit,dfPredict):\n",
    "        RandomForestModel.__init__(self,dfFit,dfPredict)\n",
    "        #how to process data\n",
    "        self.ensembleFeatures()\n",
    "    \n",
    "    def ensembleFeatures(self):\n",
    "        '''\n",
    "        creates self.fit_data, self.predict_data and self.feature_names\n",
    "        '''\n",
    "        ###FIT features\n",
    "        f1,l1 = fe.reducedEnsemble(self.dfFit) \n",
    "        #add outputs of tuned baseline classifier\n",
    "        lvl1class = BaselineTuned(self.dfFit,self.dfFit) #note predicts it's own train data!\n",
    "        lvl1class.run_model()\n",
    "        f2 = lvl1class.getPrediction()          \n",
    "        l2 = ['lvl1classifier']\n",
    "        self.fit_data = np.column_stack((f1,f2))\n",
    "        ###FEATURE Labels\n",
    "        self.feature_names = l1+l2\n",
    "        ###PREDICT features\n",
    "        f1,_ = fe.reducedEnsemble(self.dfPredict)\n",
    "        lvl1class = BaselineTuned(self.dfFit,self.dfPredict) #this time predict on predict data\n",
    "        lvl1class.run_model()\n",
    "        f2 = lvl1class.getPrediction()          \n",
    "        self.predict_data = np.column_stack((f1,f2))\n",
    "   "
   ]
  },
  {
   "cell_type": "code",
   "execution_count": 368,
   "metadata": {
    "collapsed": true
   },
   "outputs": [],
   "source": [
    "class EnsembleTree(DecisionTreeModel):\n",
    "    '''\n",
    "    RF that incorporates text data via votes of another classifier\n",
    "    BROKEN: Because ensemble1 init_test and doesn't ever init_final, you can't use this model's \n",
    "    init_final or finalize.\n",
    "    '''\n",
    "    def __init__(self,dfFit,dfPredict):\n",
    "        DecisionTreeModel.__init__(self,dfFit,dfPredict)\n",
    "        #how to process data\n",
    "        self.ensembleFeatures()\n",
    "    \n",
    "    def ensembleFeatures(self):\n",
    "        '''\n",
    "        creates self.fit_data, self.predict_data and self.feature_names\n",
    "        '''\n",
    "        ###FIT features\n",
    "        f1,l1 = fe.reducedEnsemble(self.dfFit) \n",
    "        #add outputs of tuned baseline classifier\n",
    "        lvl1class = BaselineTuned(self.dfFit,self.dfFit) #note predicts it's own train data!\n",
    "        lvl1class.run_model()\n",
    "        f2 = lvl1class.getPrediction()          \n",
    "        l2 = ['lvl1classifier']\n",
    "        self.fit_data = np.column_stack((f1,f2))\n",
    "        ###FEATURE Labels\n",
    "        self.feature_names = l1+l2\n",
    "        ###PREDICT features\n",
    "        f1,_ = fe.reducedEnsemble(self.dfPredict)\n",
    "        lvl1class = BaselineTuned(self.dfFit,self.dfPredict) #this time predict on predict data\n",
    "        lvl1class.run_model()\n",
    "        f2 = lvl1class.getPrediction()          \n",
    "        self.predict_data = np.column_stack((f1,f2))"
   ]
  },
  {
   "cell_type": "code",
   "execution_count": 656,
   "metadata": {
    "collapsed": true
   },
   "outputs": [],
   "source": [
    "class EnsembleNB(NumericModel):\n",
    "    '''\n",
    "    NB that incorporates text data via votes of another classifier\n",
    "    BROKEN: Because ensemble1 init_test and doesn't ever init_final, you can't use this model's \n",
    "    init_final or finalize.\n",
    "    '''\n",
    "    def __init__(self,dfFit,dfPredict):\n",
    "        NumericModel.__init__(self,dfFit,dfPredict)\n",
    "        #how to process data\n",
    "        self.ensembleFeatures()\n",
    "    \n",
    "    def ensembleFeatures(self):\n",
    "        '''\n",
    "        creates self.fit_data, self.predict_data and self.feature_names\n",
    "        '''\n",
    "        ###FIT features\n",
    "        f1,l1 = fe.reducedEnsemble(self.dfFit) \n",
    "        #add outputs of tuned baseline classifier\n",
    "        lvl1class = BaselineTuned(self.dfFit,self.dfFit) #note predicts it's own train data!\n",
    "        lvl1class.run_model()\n",
    "        f2 = lvl1class.getPrediction()          \n",
    "        l2 = ['lvl1classifier']\n",
    "        self.fit_data = np.column_stack((f1,f2))\n",
    "        ###FEATURE Labels\n",
    "        self.feature_names = l1+l2\n",
    "        ###PREDICT features\n",
    "        f1,_ = fe.reducedEnsemble(self.dfPredict)\n",
    "        lvl1class = BaselineTuned(self.dfFit,self.dfPredict) #this time predict on predict data\n",
    "        lvl1class.run_model()\n",
    "        f2 = lvl1class.getPrediction()          \n",
    "        self.predict_data = np.column_stack((f1,f2))"
   ]
  },
  {
   "cell_type": "code",
   "execution_count": 657,
   "metadata": {
    "collapsed": false
   },
   "outputs": [],
   "source": [
    "class EnsembleLR(BaselineTuned):\n",
    "    '''\n",
    "    Overhaul log_reg function to include tuned params\n",
    "    params found by running tuneBaseline() in Experiments cell\n",
    "    '''\n",
    "    def __init__(self,dfFit,dfPredict):\n",
    "        Model.__init__(self,dfFit,dfPredict)\n",
    "        self.classifier = LogisticRegression\n",
    "        #how to process data\n",
    "        self.ensembleFeatures()\n",
    "    \n",
    "    def log_reg(self):\n",
    "        self.c = self.classifier()\n",
    "        self.c.fit(self.fit_data, self.fit_labels)\n",
    "        lor_pred = self.c.predict(self.predict_data)\n",
    "        # Return the prediction matrix, coefficients\n",
    "        return lor_pred\n",
    "\n",
    "    def vectorize(self,raw_fit,raw_predict):\n",
    "        # transform the train data\n",
    "        vectorizer_train = CountVectorizer(stop_words='english',preprocessor=preproc_model.better_preprocessor)\n",
    "        fit_data = vectorizer_train.fit_transform(raw_fit)\n",
    "        self.feature_names = vectorizer_train.get_feature_names()\n",
    "        # transform the dev data using the same vocab\n",
    "        predict_data = vectorizer_train.transform(raw_predict)     # 'transform' function will preserve previous vocab\n",
    "        return fit_data, predict_data    \n",
    "    \n",
    "    \n",
    "    def ensembleFeatures(self):\n",
    "        '''\n",
    "        creates self.fit_data, self.predict_data and self.feature_names\n",
    "        '''\n",
    "        ###TEXT FEATURES\n",
    "        e1 = BaselineTuned(self.dfFit,self.dfPredict)\n",
    "        e1.run_model()\n",
    "        ###prune BaselineTuned features\n",
    "        f1,p1,l1 = fe.reVectorizer(e1,n_keep = 6000)\n",
    "        l1 = l1.tolist()\n",
    "        ###NUMERIC FEATURES\n",
    "        f2,l2 = fe.augNumericFeatures(self.dfFit) \n",
    "        p2,_ = fe.augNumericFeatures(self.dfPredict)\n",
    "        f2 = normalize(f2)\n",
    "        p2 = normalize(p2)\n",
    "\n",
    "        ###COMBINE\n",
    "        print p1.toarray().shape\n",
    "        print p2.shape\n",
    "        \n",
    "        self.fit_data = np.column_stack((f1.toarray(),f2))\n",
    "        self.feature_names = l1+l2      \n",
    "        self.predict_data = np.column_stack((p1.toarray(),p2))\n",
    "        '''\n",
    "        self.fit_data = f1\n",
    "        self.feature_names = l1     \n",
    "        self.predict_data = p1    \n",
    "        '''"
   ]
  },
  {
   "cell_type": "code",
   "execution_count": 624,
   "metadata": {
    "collapsed": false
   },
   "outputs": [
    {
     "name": "stdout",
     "output_type": "stream",
     "text": [
      "(1010L, 6000L)\n",
      "(1010L, 21L)\n",
      "0.555362052679\n"
     ]
    }
   ],
   "source": [
    "elr = EnsembleLR(master_data.getTrain(),master_data.getDev())\n",
    "elr.run_model()\n",
    "print elr.test()"
   ]
  },
  {
   "cell_type": "code",
   "execution_count": 610,
   "metadata": {
    "collapsed": false
   },
   "outputs": [
    {
     "data": {
      "text/plain": [
       "array([0, 0, 1, ..., 0, 0, 1])"
      ]
     },
     "execution_count": 610,
     "metadata": {},
     "output_type": "execute_result"
    }
   ],
   "source": [
    "elr.prediction.astype(int)"
   ]
  },
  {
   "cell_type": "code",
   "execution_count": 658,
   "metadata": {
    "collapsed": true
   },
   "outputs": [],
   "source": [
    "class PCAGMM(Model):\n",
    "    '''\n",
    "    PCA followed by GMM\n",
    "    '''\n",
    "    def __init__(self,dfFit,dfPredict):\n",
    "        Model.__init__(self,dfFit,dfPredict)\n",
    "        self.classifier = GMM\n",
    "        #hyperparams\n",
    "        self.k = 3 #number of PCA dimensions\n",
    "        self.cov_type = 'spherical'\n",
    "        self.n = 6 #number of GMM components\n",
    "        #how to process data\n",
    "        f1,l1 = fe.augNumericFeatures(self.dfFit)\n",
    "        p1,_ = fe.augNumericFeatures(self.dfPredict)\n",
    "        \n",
    "        self.feature_names = l1 + self.conductPCA(f1,p1)\n",
    "        \"\"\"\n",
    "        #Ensemble\n",
    "        elr = EnsembleLR(dfFit,dfFit)\n",
    "        elr.run_model()\n",
    "        f2 = elr.prediction\n",
    "        \n",
    "        elr2 = EnsembleLR(dfFit,dfPredict)\n",
    "        elr2.run_model()\n",
    "        p2 = elr2.prediction\n",
    "        \n",
    "        l2 = ['ELR prediction']\n",
    "        \n",
    "        #Combine\n",
    "        f_c = np.column_stack((f1,f2))\n",
    "        p_c = np.column_stack((p1,p2))\n",
    "        self.feature_names = self.conductPCA(f_c,p_c) + l2\n",
    "        \"\"\"\n",
    "    def run_model(self):\n",
    "        #predict\n",
    "        self.prediction = self.classify()    \n",
    "    \n",
    "    def calcNumberParams(self,k,cm_type,n):\n",
    "        '''\n",
    "        Calculates number of parameters in model\n",
    "        '''\n",
    "        if cm_type=='spherical':\n",
    "            return (k+1)*n*2\n",
    "        elif cm_type=='tied':\n",
    "            return (k)*n*2 + (k**2)*1*2 #first term is for mean vector, second is for cov matrix\n",
    "        elif cm_type=='diag':\n",
    "            return (k+k)*n*2\n",
    "        elif cm_type=='full':\n",
    "            return (k+k**2)*n*2\n",
    "        else:\n",
    "            raise ValueError('Invalid covariance matrix type')\n",
    "    \n",
    "    def conductPCA(self,f,p):\n",
    "        #firstly normalize\n",
    "        f = normalize(f)\n",
    "        p = normalize(p)\n",
    "        \n",
    "        #transform data\n",
    "        pca = PCA(n_components=self.k)\n",
    "        fit_data_dimk = pca.fit_transform(f)\n",
    "        predict_data_dimk = pca.transform(p)\n",
    "        \n",
    "        #save as instance vars\n",
    "        self.fit_data = fit_data_dimk\n",
    "        self.predict_data = predict_data_dimk\n",
    "        return ['No Name']*self.k\n",
    "\n",
    "    def classify(self):\n",
    "     \n",
    "        #separate into positive and negative classification examples\n",
    "        fit_data_positive = self.fit_data[self.fit_labels,:]\n",
    "        fit_data_negative = self.fit_data[~self.fit_labels,:]\n",
    "        \n",
    "        #fit GMMs\n",
    "        g_pos = GMM(n_components=self.n,covariance_type=self.cov_type)\n",
    "        g_pos.fit(fit_data_positive)\n",
    "        g_neg = GMM(n_components=self.n,covariance_type=self.cov_type)\n",
    "        g_neg.fit(fit_data_negative)\n",
    "\n",
    "        #predict\n",
    "        p_pos = g_pos.score(self.predict_data)\n",
    "        p_neg = g_neg.score(self.predict_data)\n",
    "        return (p_pos>p_neg).astype(int)\n",
    "    "
   ]
  },
  {
   "cell_type": "code",
   "execution_count": 661,
   "metadata": {
    "collapsed": false
   },
   "outputs": [
    {
     "name": "stdout",
     "output_type": "stream",
     "text": [
      "0.590055359414\n"
     ]
    }
   ],
   "source": [
    "#Run test on PCAGMM model\n",
    "pcagmm_model = PCAGMM(master_data.getTrain(),master_data.getDev())\n",
    "pcagmm_model.run_model()\n",
    "print pcagmm_model.test()\n",
    "\n"
   ]
  },
  {
   "cell_type": "code",
   "execution_count": 604,
   "metadata": {
    "collapsed": false
   },
   "outputs": [
    {
     "data": {
      "text/plain": [
       "\"Failed! Is 'dfPredict' the test set?\""
      ]
     },
     "execution_count": 604,
     "metadata": {},
     "output_type": "execute_result"
    }
   ],
   "source": [
    "#Run final on PCAGMM model\n",
    "pcagmm_model = PCAGMM(master_data.getTrainFull(),master_data.getTest())\n",
    "pcagmm_model.run_model()\n",
    "pcagmm_model.writeSubmission('test_finalize.csv')"
   ]
  },
  {
   "cell_type": "code",
   "execution_count": 571,
   "metadata": {
    "collapsed": false
   },
   "outputs": [
    {
     "name": "stdout",
     "output_type": "stream",
     "text": [
      "Begin calculations\n",
      "\n",
      "(3, 'spherical', 5)  calculation complete, score=  0.585640855142\n",
      "(3, 'spherical', 6)  calculation complete, score=  0.590055359414\n",
      "(3, 'spherical', 7)  calculation complete, score=  0.566304640375\n",
      "(3, 'spherical', 8)  calculation complete, score=  0.55003456665\n",
      "(4, 'spherical', 5)  calculation complete, score=  0.553142926502\n",
      "(4, 'spherical', 6)  calculation complete, score=  0.570320704632\n",
      "(4, 'spherical', 7)  calculation complete, score=  0.562502308841\n",
      "(5, 'spherical', 5)  calculation complete, score=  0.553467483601\n",
      "(6, 'spherical', 5)  calculation complete, score=  0.55076547979\n",
      "\n",
      "All calculations complete, time elapsed= 191.450 seconds\n",
      "\n",
      "Best Model\n",
      "accuracy=  0.590055359414\n",
      "(PCA dimensions,covariance_type,GMM components)=  (3, 'spherical', 6)\n",
      "Number of parameters used=  48\n"
     ]
    }
   ],
   "source": [
    "def P6(dfFit,dfPredict):\n",
    "    import time\n",
    "    from sklearn.decomposition import PCA\n",
    "    from sklearn.cluster import KMeans\n",
    "    from sklearn.mixture import GMM\n",
    "    from matplotlib.colors import LogNorm   \n",
    "    \n",
    "    def calcNumberParams(k,cm_type,n):\n",
    "        '''\n",
    "        Calculates number of parameters in model\n",
    "        '''\n",
    "        if cm_type=='spherical':\n",
    "            return (k+1)*n*2\n",
    "        elif cm_type=='tied':\n",
    "            return (k)*n*2 + (k**2)*1*2 #first term is for mean vector, second is for cov matrix\n",
    "        elif cm_type=='diag':\n",
    "            return (k+k)*n*2\n",
    "        elif cm_type=='full':\n",
    "            return (k+k**2)*n*2\n",
    "        else:\n",
    "            raise ValueError('Invalid covariance matrix type')\n",
    "\n",
    "    #compute/create variables\n",
    "    fit_labels = dfFit['requester_received_pizza'].values.astype(bool)\n",
    "    train_data = normalize(fe.augNumericFeatures(dfFit)[0])\n",
    "    test_data = normalize(fe.augNumericFeatures(dfPredict)[0])\n",
    "    test_labels = dfPredict['requester_received_pizza'].values.astype(bool)\n",
    "    \n",
    "    results = [[],[]]\n",
    "\n",
    "    #initiate params to iterate through\n",
    "    k_list = range(3,20,1) #number of PCA dimensions\n",
    "    cov_types = ['spherical']#,'tied']#,'diag', 'full']\n",
    "    n_list = range(5,15,1)\n",
    "    \n",
    "    t0 = time.time()\n",
    "    print \"Begin calculations\\n\"\n",
    "    #iterate through PCA dimensions up to 50\n",
    "    for k in k_list:\n",
    "    \n",
    "        #transform data\n",
    "        pca = PCA(n_components=k)\n",
    "        train_data_dimk = pca.fit_transform(train_data)\n",
    "        test_data_dimk = pca.transform(test_data)\n",
    "\n",
    "        #separate into positive and negative examples\n",
    "        train_data_dimk_positive = train_data_dimk[fit_labels,:]\n",
    "        train_data_dimk_negative = train_data_dimk[~fit_labels,:]\n",
    "        \n",
    "        #iterate through covariance type\n",
    "        for c in cov_types:\n",
    "            \n",
    "            #iterate through GMM components\n",
    "            for n in n_list:\n",
    "                \n",
    "                #break loop if number of params is too high, \n",
    "                #thereby skipping to another covariance type.\n",
    "                if calcNumberParams(k,c,n) > 70:\n",
    "                    break\n",
    "                else:         \n",
    "                    #fit GMMs\n",
    "                    g_pos = GMM(n_components=n,covariance_type=c)\n",
    "                    g_pos.fit(train_data_dimk_positive)\n",
    "                    g_neg = GMM(n_components=n,covariance_type=c)\n",
    "                    g_neg.fit(train_data_dimk_negative)\n",
    "\n",
    "                    #predict and score\n",
    "                    p_pos = g_pos.score(test_data_dimk)\n",
    "                    p_neg = g_neg.score(test_data_dimk)\n",
    "                    test_labels_pred = p_pos>p_neg\n",
    "                    score = metrics.metrics.roc_auc_score(test_labels,test_labels_pred)\n",
    "                    results[0].append(score)\n",
    "                    results[1].append((k,c,n))\n",
    "                    print results[1][-1],' calculation complete, score= ',results[0][-1]\n",
    "    print \"\\nAll calculations complete, time elapsed= %3.3f seconds\" % (time.time()-t0)\n",
    "    \n",
    "    #Extract best model:\n",
    "    max_value = max(results[0])\n",
    "    max_index = results[0].index(max_value)\n",
    "    best_params = results[1][max_index]\n",
    "    print \"\\nBest Model\"\n",
    "    print \"accuracy= \",max_value\n",
    "    print \"(PCA dimensions,covariance_type,GMM components)= \",best_params\n",
    "    print \"Number of parameters used= \",calcNumberParams(*best_params)\n",
    "    \n",
    "    return results\n",
    "    \n",
    "results = P6(master_data.getTrain(),master_data.getDev())\n"
   ]
  },
  {
   "cell_type": "code",
   "execution_count": 572,
   "metadata": {
    "collapsed": false
   },
   "outputs": [
    {
     "name": "stdout",
     "output_type": "stream",
     "text": [
      "10 best models\n",
      "Accuracy [PCA dim, covar type, GMM components]:  0.590055359414 ['3' 'spherical' '6']\n",
      "Accuracy [PCA dim, covar type, GMM components]:  0.585640855142 ['3' 'spherical' '5']\n",
      "Accuracy [PCA dim, covar type, GMM components]:  0.570320704632 ['4' 'spherical' '6']\n",
      "Accuracy [PCA dim, covar type, GMM components]:  0.566304640375 ['3' 'spherical' '7']\n",
      "Accuracy [PCA dim, covar type, GMM components]:  0.562502308841 ['4' 'spherical' '7']\n",
      "Accuracy [PCA dim, covar type, GMM components]:  0.553467483601 ['5' 'spherical' '5']\n",
      "Accuracy [PCA dim, covar type, GMM components]:  0.553142926502 ['4' 'spherical' '5']\n",
      "Accuracy [PCA dim, covar type, GMM components]:  0.55076547979 ['6' 'spherical' '5']\n",
      "Accuracy [PCA dim, covar type, GMM components]:  0.55003456665 ['3' 'spherical' '8']\n"
     ]
    }
   ],
   "source": [
    "### EXTRACT 10 BEST MODELS FOR FUN:\n",
    "\n",
    "np_scores = np.asarray(results[0])\n",
    "np_params = np.asarray(results[1])\n",
    "max_indices = np.argsort(-np_scores)[:10]\n",
    "max_scores = np_scores[max_indices]\n",
    "best_params = np_params[max_indices]\n",
    "\n",
    "print \"10 best models\"\n",
    "for i in range(max_scores.shape[0]):\n",
    "    print \"Accuracy [PCA dim, covar type, GMM components]: \",max_scores[i], best_params[i]\n"
   ]
  },
  {
   "cell_type": "code",
   "execution_count": 371,
   "metadata": {
    "collapsed": false
   },
   "outputs": [
    {
     "name": "stdout",
     "output_type": "stream",
     "text": [
      "0.504422420299\n"
     ]
    }
   ],
   "source": [
    "#Run test of EnsembleNB\n",
    "enb_model = EnsembleNB(master_data.getTrain(),master_data.getDev())\n",
    "enb_model.run_model()  \n",
    "print enb_model.test()"
   ]
  },
  {
   "cell_type": "code",
   "execution_count": 482,
   "metadata": {
    "collapsed": false
   },
   "outputs": [
    {
     "name": "stdout",
     "output_type": "stream",
     "text": [
      "0.555583701429\n"
     ]
    }
   ],
   "source": [
    "class Preproc(Model):\n",
    "   \n",
    "    '''\n",
    "    Preprocessor\n",
    "\n",
    "    Things I tried and kept\n",
    "    -remove apostrophes\n",
    "    -remove punctuation\n",
    "    -remove white space\n",
    "    -stem words\n",
    "    -keep only words that turn up in a US english dictionary\n",
    "\n",
    "    Things I tried and removed\n",
    "    -remove stop words\n",
    "    -make all lowercase\n",
    "    -try to correct misspelled words\n",
    "    -rearranging changes\n",
    "    \n",
    "    Things I tried that failed, but I want to keep trying\n",
    "    -SVM instead of logistic regression\n",
    "    -TF-IDF transformation\n",
    "    '''\n",
    "    \n",
    "    def __init__(self,dfFit,dfPredict):\n",
    "        Model.__init__(self,dfFit,dfPredict)\n",
    "        #Mull over some options here\n",
    "        #self.classifier = SGDClassifier(loss='hinge', penalty='l2',alpha=1e-3, n_iter=5, random_state=42)\n",
    "        self.classifier = LogisticRegression(penalty='l2')\n",
    "        #how to process data\n",
    "        raw_fit = self.dfFit['request_text_edit_aware'].values\n",
    "        raw_predict = self.dfPredict['request_text_edit_aware'].values\n",
    "        self.fit_data, self.predict_data = self.vectorize(raw_fit,raw_predict,self.better_preprocessor)\n",
    "\n",
    "    def run_model(self):\n",
    "        self.prediction = self.log_reg()\n",
    "        \n",
    "    def better_preprocessor_mike(self,s):\n",
    "        #remove plurals \"es,s,ies\" and other suffixes\n",
    "        s = re.sub(r'(?<=\\w)ies(?=\\W|$)','y',s)\n",
    "        #s = re.sub(r'(?<=\\w)(?:es|ing|ly)(?=\\W|$)','',s) #removes es,ing,ly\n",
    "        #s = re.sub(r'(?<=\\w)(?:es)(?=\\W|$)','',s)\n",
    "        s = re.sub(r'(?<=[bcdfghjklmnpqrtuvwxyz])(?:s|ed)(?=\\W|$)','',s) #drop 's' or 'ed' if preceded by a consonant\n",
    "\n",
    "        #remove any non letters, numbers, a few intersting chars, and whitespace\n",
    "        #s = re.sub(r'[^\\w\\s,.!@$%]+','',s)\n",
    "\n",
    "        #remove part of email addresses, keeping domain only\n",
    "        #s = re.sub(r'(?<=\\s)[a-zA-Z_.0-9]+@','@',s)\n",
    "\n",
    "        #replace numbers with a single token\n",
    "        #s = re.sub(r'[0-9]+','1',s)\n",
    "\n",
    "        #delete mixed words/numbers\n",
    "        #s = re.sub(r'(?<=\\s)(?:\\d+[a-zA-Z]+\\w*|[a-zA-Z]+\\d+\\w*)(?=\\W|$)','',s)\n",
    "\n",
    "        #lowercase everything\n",
    "        s = s.lower()\n",
    "\n",
    "        #Delete everything except alpha and separators!\n",
    "        #s = re.sub(r'[^a-zA-Z,\\s\\.]+','',s)\n",
    "\n",
    "        return s\n",
    "    \n",
    "    def better_preprocessor(self,s):\n",
    "        st = PorterStemmer()\n",
    "        ##############################chkr = enchant.checker.SpellChecker(\"en_US\")\n",
    "        #print s\n",
    "        #s = strip_accents_unicode(s).lower() #make everything lowercase\n",
    "        s = re.sub('[?,-/><=+_!.:()]',' ',s) #turn a lot of punctuations into spaces\n",
    "        s = ' '.join(s.split()) #remove excess white space\n",
    "        ##############################s = \" \".join(word for word in s.split() if chkr.check(word) == True)\n",
    "        s = \" \".join(st.stem(word) for word in s.split(\" \"))\n",
    "        s = re.sub('[\\']','',s) #remove apostrophes\n",
    "        #print s\n",
    "        return s\n",
    "        \n",
    "    def vectorize(self,raw_fit,raw_predict,prepro):\n",
    "        # transform the train data\n",
    "        vectorizer_train = CountVectorizer(preprocessor=prepro,stop_words='english')\n",
    "        fit_data = vectorizer_train.fit_transform(raw_fit)\n",
    "        #########################tfidf_transformer = TfidfTransformer()\n",
    "        #########################fit_data_tfidf = tfidf_transformer.fit_transform(fit_data)\n",
    "\n",
    "        # transform the dev data using the same vocab\n",
    "        predict_data = vectorizer_train.transform(raw_predict)     # 'transform' function will preserve previous vocab\n",
    "        ###########################predict_data_tfidf = tfidf_transformer.transform(predict_data)\n",
    "        \n",
    "        return fit_data, predict_data\n",
    "        #return fit_data_tfidf, predict_data_tfidf\n",
    "\n",
    "    def log_reg(self):\n",
    "        lor = self.classifier\n",
    "        lor.fit(self.fit_data, self.fit_labels)\n",
    "        lor_pred = lor.predict(self.predict_data)\n",
    "        # Return the prediction matrix, coefficients\n",
    "        return lor_pred\n",
    "    \n",
    "# Run test of baseline\n",
    "preproc_model = Preproc(master_data.getTrain(),master_data.getDev())\n",
    "preproc_model.run_model()\n",
    "print preproc_model.test()"
   ]
  },
  {
   "cell_type": "code",
   "execution_count": 11,
   "metadata": {
    "collapsed": false
   },
   "outputs": [
    {
     "ename": "NotImplementedError",
     "evalue": "Need a 28 hour day",
     "output_type": "error",
     "traceback": [
      "\u001b[1;31m---------------------------------------------------------------------------\u001b[0m",
      "\u001b[1;31mNotImplementedError\u001b[0m                       Traceback (most recent call last)",
      "\u001b[1;32m<ipython-input-11-c3dc3b2474ba>\u001b[0m in \u001b[0;36m<module>\u001b[1;34m()\u001b[0m\n\u001b[1;32m----> 1\u001b[1;33m \u001b[1;32mclass\u001b[0m \u001b[0mStackedRegression\u001b[0m\u001b[1;33m(\u001b[0m\u001b[1;33m)\u001b[0m\u001b[1;33m:\u001b[0m\u001b[1;33m\u001b[0m\u001b[0m\n\u001b[0m\u001b[0;32m      2\u001b[0m     '''\n\u001b[0;32m      3\u001b[0m     \u001b[0mStacking\u001b[0m \u001b[1;32mwith\u001b[0m \u001b[0mlogistic\u001b[0m \u001b[0mregression\u001b[0m\u001b[1;33m.\u001b[0m\u001b[1;33m\u001b[0m\u001b[0m\n\u001b[0;32m      4\u001b[0m     \u001b[0mMakes\u001b[0m \u001b[0ma\u001b[0m \u001b[0mlinear\u001b[0m \u001b[0mcombination\u001b[0m \u001b[0mof\u001b[0m \u001b[0moutputs\u001b[0m \u001b[0mof\u001b[0m \u001b[0mother\u001b[0m \u001b[0mmodels\u001b[0m\u001b[1;33m\u001b[0m\u001b[0m\n\u001b[0;32m      5\u001b[0m     \u001b[0mhttp\u001b[0m\u001b[1;33m:\u001b[0m\u001b[1;33m//\u001b[0m\u001b[0mlink\u001b[0m\u001b[1;33m.\u001b[0m\u001b[0mspringer\u001b[0m\u001b[1;33m.\u001b[0m\u001b[0mcom\u001b[0m\u001b[1;33m/\u001b[0m\u001b[0marticle\u001b[0m\u001b[1;33m/\u001b[0m\u001b[1;36m10.1007\u001b[0m\u001b[1;33m%\u001b[0m\u001b[1;36m2\u001b[0m\u001b[0mFBF00117832\u001b[0m\u001b[1;33m\u001b[0m\u001b[0m\n",
      "\u001b[1;32m<ipython-input-11-c3dc3b2474ba>\u001b[0m in \u001b[0;36mStackedRegression\u001b[1;34m()\u001b[0m\n\u001b[0;32m      5\u001b[0m     \u001b[0mhttp\u001b[0m\u001b[1;33m:\u001b[0m\u001b[1;33m//\u001b[0m\u001b[0mlink\u001b[0m\u001b[1;33m.\u001b[0m\u001b[0mspringer\u001b[0m\u001b[1;33m.\u001b[0m\u001b[0mcom\u001b[0m\u001b[1;33m/\u001b[0m\u001b[0marticle\u001b[0m\u001b[1;33m/\u001b[0m\u001b[1;36m10.1007\u001b[0m\u001b[1;33m%\u001b[0m\u001b[1;36m2\u001b[0m\u001b[0mFBF00117832\u001b[0m\u001b[1;33m\u001b[0m\u001b[0m\n\u001b[0;32m      6\u001b[0m     '''\n\u001b[1;32m----> 7\u001b[1;33m     \u001b[1;32mraise\u001b[0m \u001b[0mNotImplementedError\u001b[0m\u001b[1;33m(\u001b[0m\u001b[1;34m\"Need a 28 hour day\"\u001b[0m\u001b[1;33m)\u001b[0m\u001b[1;33m\u001b[0m\u001b[0m\n\u001b[0m",
      "\u001b[1;31mNotImplementedError\u001b[0m: Need a 28 hour day"
     ]
    }
   ],
   "source": [
    "class StackedRegression():\n",
    "    '''\n",
    "    Stacking with logistic regression.\n",
    "    Makes a linear combination of outputs of other models\n",
    "    http://link.springer.com/article/10.1007%2FBF00117832\n",
    "    '''\n",
    "    raise NotImplementedError(\"Need a 28 hour day\")"
   ]
  },
  {
   "cell_type": "code",
   "execution_count": 11,
   "metadata": {
    "collapsed": false
   },
   "outputs": [
    {
     "name": "stdout",
     "output_type": "stream",
     "text": [
      "[u'giver_username_if_known',\n",
      " u'number_of_downvotes_of_request_at_retrieval',\n",
      " u'number_of_upvotes_of_request_at_retrieval',\n",
      " u'post_was_edited',\n",
      " u'request_id',\n",
      " u'request_number_of_comments_at_retrieval',\n",
      " u'request_text',\n",
      " u'request_text_edit_aware',\n",
      " u'request_title',\n",
      " u'requester_account_age_in_days_at_request',\n",
      " u'requester_account_age_in_days_at_retrieval',\n",
      " u'requester_days_since_first_post_on_raop_at_request',\n",
      " u'requester_days_since_first_post_on_raop_at_retrieval',\n",
      " u'requester_number_of_comments_at_request',\n",
      " u'requester_number_of_comments_at_retrieval',\n",
      " u'requester_number_of_comments_in_raop_at_request',\n",
      " u'requester_number_of_comments_in_raop_at_retrieval',\n",
      " u'requester_number_of_posts_at_request',\n",
      " u'requester_number_of_posts_at_retrieval',\n",
      " u'requester_number_of_posts_on_raop_at_request',\n",
      " u'requester_number_of_posts_on_raop_at_retrieval',\n",
      " u'requester_number_of_subreddits_at_request',\n",
      " u'requester_received_pizza',\n",
      " u'requester_subreddits_at_request',\n",
      " u'requester_upvotes_minus_downvotes_at_request',\n",
      " u'requester_upvotes_minus_downvotes_at_retrieval',\n",
      " u'requester_upvotes_plus_downvotes_at_request',\n",
      " u'requester_upvotes_plus_downvotes_at_retrieval',\n",
      " u'requester_user_flair',\n",
      " u'requester_username',\n",
      " u'unix_timestamp_of_request',\n",
      " u'unix_timestamp_of_request_utc']\n",
      "\n",
      "\n",
      "request_text_edit_aware\n",
      "request_title\n",
      "\n",
      "\n",
      "                             request_text_edit_aware  \\\n",
      "0  Hi I am in need of food for my 4 children we a...   \n",
      "1  I spent the last money I had on gas today. Im ...   \n",
      "2  My girlfriend decided it would be a good idea ...   \n",
      "3  It's cold, I'n hungry, and to be completely ho...   \n",
      "4  hey guys:\\n I love this sub. I think it's grea...   \n",
      "\n",
      "                                       request_title  \n",
      "0            Request Colorado Springs Help Us Please  \n",
      "1  [Request] California, No cash and I could use ...  \n",
      "2  [Request] Hungry couple in Dundee, Scotland wo...  \n",
      "3  [Request] In Canada (Ontario), just got home f...  \n",
      "4  [Request] Old friend coming to visit. Would LO...  \n",
      "\n",
      "\n",
      "<type 'numpy.ndarray'>\n",
      "(3030L, 2L)\n",
      "\n",
      "\n",
      "(3030L,)   (1010L,)   (4040L,)\n",
      "\n",
      "\n",
      "(3030L,)   (3030L,)   (3030L, 2L)\n"
     ]
    },
    {
     "data": {
      "text/plain": [
       "'\\nTo use:\\n1) instantiate your model class\\n2) initialize it as either test or final\\n3) run it and either test or finalize it\\n\\n'"
      ]
     },
     "execution_count": 11,
     "metadata": {},
     "output_type": "execute_result"
    }
   ],
   "source": [
    "'''\n",
    "TUTORIAL: This cell shows how the dataframes above get accessed and turned into usable numpy arrays\n",
    "'''\n",
    "\n",
    "###Task: Extracting message text AND title text into a feature vector:\n",
    "#first find name of column by printing out the list of names\n",
    "trainColumnNames = master_data.getTrainColumnNames()\n",
    "pprint(trainColumnNames) #looks like we want 'request_text_edit_aware' and 'request_title'\n",
    "#find which number this is or manually type column name\n",
    "print '\\n'\n",
    "print trainColumnNames[7]\n",
    "print trainColumnNames[8]\n",
    "\n",
    "#two ways to get data we want:\n",
    "print '\\n'\n",
    "X_train = master_data.getTrain()[['request_text_edit_aware','request_title']] #method 1\n",
    "X_train = master_data.getTrain()[[trainColumnNames[7],trainColumnNames[8]]] #method 2\n",
    "print X_train.head() #.head() just prints the first 5 rows\n",
    "\n",
    "#The above X_train is still a pandas dataframe. Converting to numpy array for sklearn is as simple as:\n",
    "print '\\n'\n",
    "X_train = X_train.values\n",
    "print type(X_train)\n",
    "print X_train.shape\n",
    "\n",
    "#In summary (quick way):\n",
    "X_train = master_data.getTrain()[['request_text_edit_aware','request_title']].values \n",
    "\n",
    "###Task: Join 2 numpy arrays horizontally (e.g. merge train and dev for final submission)\n",
    "train_data = master_data.getTrain()['request_text_edit_aware'].values\n",
    "dev_data = master_data.getDev()['request_text_edit_aware'].values\n",
    "merged_data = np.concatenate((train_data,dev_data),axis=0)\n",
    "print '\\n'\n",
    "print train_data.shape,' ',dev_data.shape,' ',merged_data.shape\n",
    "\n",
    "###Task: Join 2 numpy arrays vertically (e.g. add a bunch of features)\n",
    "train_data1 = master_data.getTrain()['request_text_edit_aware'].values\n",
    "#now we want more features... say from some feature engineering process\n",
    "train_data2 = master_data.getTrain()['request_title'].values\n",
    "train_data_merged = np.column_stack((train_data1,train_data2)) #<---- where the action is at!\n",
    "print '\\n'\n",
    "print train_data1.shape,' ',train_data2.shape,' ',train_data_merged.shape\n",
    "\n",
    "###Task: Use the Classes\n",
    "'''\n",
    "To use:\n",
    "1) instantiate your model class\n",
    "2) initialize it as either test or final\n",
    "3) run it and either test or finalize it\n",
    "\n",
    "'''"
   ]
  },
  {
   "cell_type": "code",
   "execution_count": 463,
   "metadata": {
    "collapsed": false
   },
   "outputs": [
    {
     "name": "stdout",
     "output_type": "stream",
     "text": [
      "0.55160457863\n"
     ]
    }
   ],
   "source": [
    "# Run test of baseline\n",
    "baseline_model = Baseline(master_data.getTrain(),master_data.getDev())\n",
    "baseline_model.run_model()\n",
    "print baseline_model.test()\n",
    "#featureImportanceVisualizer(baseline_model) "
   ]
  },
  {
   "cell_type": "code",
   "execution_count": 100,
   "metadata": {
    "collapsed": false
   },
   "outputs": [
    {
     "name": "stdout",
     "output_type": "stream",
     "text": [
      "[0 0 0 ..., 0 1 0]\n"
     ]
    }
   ],
   "source": [
    "# Run final of baseline\n",
    "baseline_model = Baseline(master_data.getTrainFull(),master_data.getTest())\n",
    "baseline_model.run_model()\n",
    "baseline_model.writeSubmission('test_finalize.csv')"
   ]
  },
  {
   "cell_type": "code",
   "execution_count": 97,
   "metadata": {
    "collapsed": false
   },
   "outputs": [
    {
     "name": "stdout",
     "output_type": "stream",
     "text": [
      "test result:  0.502081915045\n",
      "Mean AUC: 0.583399516721\n"
     ]
    },
    {
     "data": {
      "image/png": "[encoded data removed]",
      "text/plain": [
       "<matplotlib.figure.Figure at 0x58c44ba8>"
      ]
     },
     "metadata": {},
     "output_type": "display_data"
    }
   ],
   "source": [
    "# Run test of BaselineTuned\n",
    "tuned = BaselineTuned(master_data.getTrain(),master_data.getDev())\n",
    "tuned.run_model()\n",
    "print 'test result: ', tuned.test()\n",
    "\n",
    "crossVal = tuned.crossVal({'penalty': 'l1', 'C': 0.092})\n",
    "\n",
    "#featureImportanceVisualizer(tuned) "
   ]
  },
  {
   "cell_type": "code",
   "execution_count": 86,
   "metadata": {
    "collapsed": false
   },
   "outputs": [
    {
     "data": {
      "text/plain": [
       "0.25152953852887067"
      ]
     },
     "execution_count": 86,
     "metadata": {},
     "output_type": "execute_result"
    }
   ],
   "source": [
    "np.amax(tuned.c.coef_)"
   ]
  },
  {
   "cell_type": "code",
   "execution_count": 16,
   "metadata": {
    "collapsed": false
   },
   "outputs": [
    {
     "name": "stdout",
     "output_type": "stream",
     "text": [
      "[0 0 0 ..., 0 1 0]\n"
     ]
    }
   ],
   "source": [
    "# Run final of BaselineTuned\n",
    "tuned = Baseline(master_data.getTrainFull(),master_data.getTest())\n",
    "tuned.run_model()\n",
    "tuned.writeSubmission('test_finalize.csv')"
   ]
  },
  {
   "cell_type": "code",
   "execution_count": 102,
   "metadata": {
    "collapsed": false
   },
   "outputs": [
    {
     "name": "stdout",
     "output_type": "stream",
     "text": [
      "0.530933194011\n"
     ]
    }
   ],
   "source": [
    "#Run NumericModel\n",
    "numeric_model = NumericModel(master_data.getTrain(),master_data.getDev())\n",
    "numeric_model.run_model()\n",
    "print numeric_model.test()"
   ]
  },
  {
   "cell_type": "code",
   "execution_count": 199,
   "metadata": {
    "collapsed": false
   },
   "outputs": [
    {
     "name": "stdout",
     "output_type": "stream",
     "text": [
      "0.507485922666\n"
     ]
    }
   ],
   "source": [
    "#Run test of decision tree\n",
    "decision_tree_model = DecisionTreeModel(master_data.getTrain(),master_data.getDev())\n",
    "decision_tree_model.run_model()\n",
    "print decision_tree_model.test()\n"
   ]
  },
  {
   "cell_type": "code",
   "execution_count": 225,
   "metadata": {
    "collapsed": false
   },
   "outputs": [
    {
     "name": "stdout",
     "output_type": "stream",
     "text": [
      "0.508032128514\n"
     ]
    }
   ],
   "source": [
    "#Run test of random forest\n",
    "rf_model = RandomForestModel(master_data.getTrain(),master_data.getDev())\n",
    "rf_model.run_model()\n",
    "print rf_model.test()\n"
   ]
  },
  {
   "cell_type": "code",
   "execution_count": 341,
   "metadata": {
    "collapsed": false
   },
   "outputs": [
    {
     "name": "stdout",
     "output_type": "stream",
     "text": [
      "0.504237713007\n"
     ]
    },
    {
     "data": {
      "image/png": "[encoded data removed]",
      "text/plain": [
       "<matplotlib.figure.Figure at 0x57fc6a58>"
      ]
     },
     "metadata": {},
     "output_type": "display_data"
    }
   ],
   "source": [
    "#Run test of EnsembleForest\n",
    "ef_model = EnsembleForest(master_data.getTrain(),master_data.getDev())\n",
    "ef_model.run_model()\n",
    "print ef_model.test()\n",
    "\n",
    "#Run feature importance vis using random forest\n",
    "featureImportanceVisualizer(ef_model)"
   ]
  },
  {
   "cell_type": "code",
   "execution_count": 369,
   "metadata": {
    "collapsed": false
   },
   "outputs": [
    {
     "name": "stdout",
     "output_type": "stream",
     "text": [
      "             precision    recall  f1-score   support\n",
      "\n",
      "      False       0.75      1.00      0.86       761\n",
      "       True       0.25      0.00      0.01       249\n",
      "\n",
      "avg / total       0.63      0.75      0.65      1010\n",
      "\n"
     ]
    },
    {
     "data": {
      "image/png": "[encoded data removed]",
      "text/plain": [
       "<matplotlib.figure.Figure at 0x54bffc88>"
      ]
     },
     "metadata": {},
     "output_type": "display_data"
    }
   ],
   "source": [
    "#Run test of EnsembleTree\n",
    "et_model = EnsembleTree(master_data.getTrain(),master_data.getDev())\n",
    "et_model.run_model()\n",
    "print et_model.test(criteria = classification_report)\n",
    "\n",
    "#Run feature importance vis using random forest\n",
    "featureImportanceVisualizer(et_model)"
   ]
  },
  {
   "cell_type": "code",
   "execution_count": 175,
   "metadata": {
    "collapsed": false
   },
   "outputs": [
    {
     "name": "stdout",
     "output_type": "stream",
     "text": [
      "{'criterion': 'entropy', 'max_depth': 5}\n"
     ]
    },
    {
     "data": {
      "text/plain": [
       "GridSearchCV(cv=None,\n",
       "       estimator=DecisionTreeClassifier(compute_importances=None, criterion='gini',\n",
       "            max_depth=None, max_features=None, max_leaf_nodes=None,\n",
       "            min_density=None, min_samples_leaf=1, min_samples_split=2,\n",
       "            random_state=None, splitter='best'),\n",
       "       fit_params={}, iid=True, loss_func=None, n_jobs=1,\n",
       "       param_grid={'criterion': ['gini', 'entropy'], 'max_depth': [2, 3, 4, 5, 6]},\n",
       "       pre_dispatch='2*n_jobs', refit=True, score_func=None,\n",
       "       scoring='roc_auc', verbose=0)"
      ]
     },
     "execution_count": 175,
     "metadata": {},
     "output_type": "execute_result"
    }
   ],
   "source": [
    "params = {'max_depth':range(2,7),'criterion':['gini','entropy']}\n",
    "et_model.gridSearch(params)"
   ]
  },
  {
   "cell_type": "code",
   "execution_count": 484,
   "metadata": {
    "collapsed": false
   },
   "outputs": [],
   "source": [
    "\"\"\"\n",
    "EXPERIMENTS Cell\n",
    "Cell for all experiments that don't fit neatly elsewhere.\n",
    "\"\"\"\n",
    "    \n",
    "def colNamePrint():\n",
    "    '''\n",
    "    Just print out TEST column names w indices for ref.\n",
    "    '''\n",
    "    c = master_data.getTestColumnNames()\n",
    "    for i,n in enumerate(c):\n",
    "        print i, '_',n\n",
    "    #END\n",
    "\n",
    "def correlationVis(df):\n",
    "    pass\n",
    "\n",
    "def tuneBaseline():\n",
    "    '''\n",
    "    Conducts a GridSearch of LR params\n",
    "    Visualizes result - useful to discern if result is from overfitting or not\n",
    "    WARNING: Takes several minutes!\n",
    "    '''\n",
    "\n",
    "    #initiate a Baseline obj\n",
    "    baseline_model = Baseline(master_data.getTrain(),master_data.getDev())\n",
    "\n",
    "    ####Run grid search\n",
    "    params = {'penalty': ['l1','l2'],'C':np.logspace(-2,2,30)}\n",
    "    gs = baseline_model.gridSearch(params)\n",
    "\n",
    "    ####Print and plot results\n",
    "    scores = gs.grid_scores_\n",
    "\n",
    "    l1_means = []\n",
    "    l2_means = []\n",
    "    C = []\n",
    "\n",
    "    for i in range(len(gs.grid_scores_)):\n",
    "        #append to relevant means vector\n",
    "        if scores[i][0]['penalty'] == 'l1':\n",
    "            l1_means.append(scores[i][1])\n",
    "            #append C vector\n",
    "            C.append(scores[i][0]['C'])\n",
    "        elif scores[i][0]['penalty'] == 'l2':\n",
    "            l2_means.append(scores[i][1])\n",
    "        else:\n",
    "            raise ValueError(\"function can't handle given params\")\n",
    "\n",
    "    #plot   \n",
    "    plt.plot(C,l1_means,C,l2_means,'r')\n",
    "    #plt.plot()\n",
    "    plt.semilogx()\n",
    "    plt.legend(['l1 penalty','l2 penalty'],'best')\n",
    "    plt.show()\n",
    "\n",
    "def tuneEnsembleTree():\n",
    "    '''\n",
    "    Conducts a GridSearch of DT params\n",
    "    Visualizes result - useful to discern if result is from overfitting or not\n",
    "    WARNING: Takes several minutes!\n",
    "    '''\n",
    "\n",
    "    #initiate a ET obj\n",
    "    et_model = EnsembleTree(master_data.getTrain(),master_data.getDev())\n",
    "\n",
    "    ####Run grid search\n",
    "    params = {'max_depth':range(2,7),'criterion':['gini','entropy']}\n",
    "    gs = et_model.gridSearch(params)\n",
    "\n",
    "    ####Print and plot results\n",
    "    scores = gs.grid_scores_\n",
    "    pprint(scores)\n",
    "    gini_means = []\n",
    "    entropy_means = []\n",
    "    max_depth = []\n",
    "\n",
    "    for i in range(len(gs.grid_scores_)):\n",
    "        #append to relevant means vector\n",
    "        if scores[i][0]['criterion'] == 'gini':\n",
    "            gini_means.append(scores[i][1])\n",
    "            #append max_depth vector\n",
    "            max_depth.append(scores[i][0]['max_depth'])\n",
    "        elif scores[i][0]['criterion'] == 'entropy':\n",
    "            entropy_means.append(scores[i][1])\n",
    "        else:\n",
    "            raise ValueError(\"function can't handle given params\")\n",
    "\n",
    "    #plot   \n",
    "    plt.plot(max_depth,gini_means,max_depth,entropy_means,'r')\n",
    "    #plt.plot()\n",
    "    #plt.semilogx()\n",
    "    plt.legend(['gini','entropy'],'best')\n",
    "    plt.show()\n",
    "\n",
    "def pruneWords():\n",
    "    '''\n",
    "    Prune the less-importance features and test resulting performance\n",
    "    '''\n",
    "    results = []\n",
    "\n",
    "    baseline_model = Baseline(master_data.getTrain(),master_data.getDev())\n",
    "    baseline_model.run_model()\n",
    "    c = baseline_model.c\n",
    "    importances = c.coef_[0,:]\n",
    "    old_names = baseline_model.feature_names\n",
    "    old_fit_data = baseline_model.fit_data\n",
    "    old_predict_data = baseline_model.predict_data\n",
    "\n",
    "    for i in np.linspace(20,10020,41):\n",
    "\n",
    "        n=i        \n",
    "        ind = np.argsort(-np.absolute(importances))[:n]\n",
    "        newVocab = np.asarray(old_names)[ind]\n",
    "\n",
    "        fit_new = old_fit_data[:,ind]\n",
    "        predict_new = old_predict_data[:,ind]\n",
    "\n",
    "        baseline_model.fit_data = fit_new\n",
    "        baseline_model.predict_data = predict_new\n",
    "\n",
    "        baseline_model.run_model()\n",
    "        results.append(baseline_model.test())\n",
    "        print 'i =', i\n",
    "\n",
    "    plt.plot(np.linspace(20,10020,41),results)"
   ]
  },
  {
   "cell_type": "code",
   "execution_count": 69,
   "metadata": {
    "collapsed": false
   },
   "outputs": [
    {
     "name": "stdout",
     "output_type": "stream",
     "text": [
      "{'penalty': 'l1', 'C': 0.092367085718738612}\n"
     ]
    },
    {
     "data": {
      "image/png": "[encoded data removed]",
      "text/plain": [
       "<matplotlib.figure.Figure at 0x1896f0f0>"
      ]
     },
     "metadata": {},
     "output_type": "display_data"
    }
   ],
   "source": [
    "tuneBaseline()"
   ]
  },
  {
   "cell_type": "code",
   "execution_count": 183,
   "metadata": {
    "collapsed": false
   },
   "outputs": [
    {
     "name": "stdout",
     "output_type": "stream",
     "text": [
      "{'criterion': 'entropy', 'max_depth': 5}\n",
      "[mean: 0.58056, std: 0.01178, params: {'criterion': 'gini', 'max_depth': 2},\n",
      " mean: 0.58138, std: 0.02570, params: {'criterion': 'gini', 'max_depth': 3},\n",
      " mean: 0.58076, std: 0.01807, params: {'criterion': 'gini', 'max_depth': 4},\n",
      " mean: 0.58705, std: 0.02782, params: {'criterion': 'gini', 'max_depth': 5},\n",
      " mean: 0.57898, std: 0.02319, params: {'criterion': 'gini', 'max_depth': 6},\n",
      " mean: 0.56810, std: 0.00180, params: {'criterion': 'entropy', 'max_depth': 2},\n",
      " mean: 0.57497, std: 0.01824, params: {'criterion': 'entropy', 'max_depth': 3},\n",
      " mean: 0.60705, std: 0.01338, params: {'criterion': 'entropy', 'max_depth': 4},\n",
      " mean: 0.61963, std: 0.01448, params: {'criterion': 'entropy', 'max_depth': 5},\n",
      " mean: 0.60138, std: 0.03276, params: {'criterion': 'entropy', 'max_depth': 6}]\n"
     ]
    },
    {
     "data": {
      "image/png": "[encoded data removed]",
      "text/plain": [
       "<matplotlib.figure.Figure at 0x647e6400>"
      ]
     },
     "metadata": {},
     "output_type": "display_data"
    }
   ],
   "source": [
    "tuneEnsembleTree()"
   ]
  },
  {
   "cell_type": "code",
   "execution_count": 486,
   "metadata": {
    "collapsed": false
   },
   "outputs": [
    {
     "name": "stdout",
     "output_type": "stream",
     "text": [
      "i = 20.0\n",
      "i = 270.0\n",
      "i = 520.0\n",
      "i = 770.0\n",
      "i = 1020.0\n",
      "i = 1270.0\n",
      "i = 1520.0\n",
      "i = 1770.0\n",
      "i = 2020.0\n",
      "i = 2270.0\n",
      "i = 2520.0\n",
      "i = 2770.0\n",
      "i = 3020.0\n",
      "i = 3270.0\n",
      "i = 3520.0\n",
      "i = 3770.0\n",
      "i = 4020.0\n",
      "i = 4270.0\n",
      "i = 4520.0\n",
      "i = 4770.0\n",
      "i = 5020.0\n",
      "i = 5270.0\n",
      "i = 5520.0\n",
      "i = 5770.0\n",
      "i = 6020.0\n",
      "i = 6270.0\n",
      "i = 6520.0\n",
      "i = 6770.0\n",
      "i = 7020.0\n",
      "i = 7270.0\n",
      "i = 7520.0\n",
      "i = 7770.0\n",
      "i = 8020.0\n",
      "i = 8270.0\n",
      "i = 8520.0\n",
      "i = 8770.0\n",
      "i = 9020.0\n",
      "i = 9270.0\n",
      "i = 9520.0\n",
      "i = 9770.0\n",
      "i = 10020.0\n"
     ]
    },
    {
     "data": {
      "image/png": "[encoded data removed]",
      "text/plain": [
       "<matplotlib.figure.Figure at 0x395fad68>"
      ]
     },
     "metadata": {},
     "output_type": "display_data"
    }
   ],
   "source": [
    "pruneWords()"
   ]
  },
  {
   "cell_type": "code",
   "execution_count": 54,
   "metadata": {
    "collapsed": true
   },
   "outputs": [],
   "source": [
    "\"\"\"\n",
    "VISUALISATION Cell\n",
    "\"\"\"\n",
    "\n",
    "def timeVisualizer():\n",
    "    '''\n",
    "    Visualize time related trends. Does RAOP get more or less generous over time? \n",
    "    Certain times of day? Certain days of week?\n",
    "    '''\n",
    "    raise NotImplementedError\n",
    "\n",
    "def featureImportanceVisualizer(fitted_model):\n",
    "    '''\n",
    "    Takes a fitted model with a 'extractFeatureImportance' method\n",
    "    plots bar graph of features\n",
    "    see http://matplotlib.org/examples/lines_bars_and_markers/barh_demo.html for plotting example\n",
    "    '''\n",
    "    labs,means,std_devs = fitted_model.extractFeatureImportance()\n",
    "    err = std_devs*1.96 #95th percentile confidence interval\n",
    "    \n",
    "    #plot results\n",
    "    fig = plt.figure(figsize=(20,20))\n",
    "    y_pos = np.arange(labs.shape[0])\n",
    "    plt.barh(y_pos, means, xerr=err, align='center', alpha=0.4)\n",
    "    plt.yticks(y_pos,labs)\n",
    "    plt.xlabel('Feature importance')\n",
    "    plt.title('Feature importance visualizer')\n",
    "    \n",
    "    plt.show()\n",
    "    \n",
    "    \n",
    "    "
   ]
  }
 ],
 "metadata": {
  "kernelspec": {
   "display_name": "Python 2",
   "language": "python",
   "name": "python2"
  },
  "language_info": {
   "codemirror_mode": {
    "name": "ipython",
    "version": 2
   },
   "file_extension": ".py",
   "mimetype": "text/x-python",
   "name": "python",
   "nbconvert_exporter": "python",
   "pygments_lexer": "ipython2",
   "version": "2.7.6"
  }
 },
 "nbformat": 4,
 "nbformat_minor": 0
}
