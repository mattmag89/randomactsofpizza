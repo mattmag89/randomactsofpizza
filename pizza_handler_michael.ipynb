{
 "cells": [
  {
   "cell_type": "markdown",
   "metadata": {},
   "source": [
    "Notes:\n",
    "    \n",
    "14Apr15: *Changed Model's 'test' method to take the type of report as input. We should be using AUC most of the time (that is how the comp is scored) but might be useful to use classificaition report sometimes.\n",
    "*Classes start with caps, functions/methods in camel case\n",
    "\n",
    "TODO:\n",
    "*Add getter to \"model\" for classification results\n",
    "\n",
    "*Fix init (Mike to do) to make pythonic. Also have it accept params so our classes can be used for grid searching WITHOUT breaking existing classes\n",
    "\n",
    "*Make GridSearchCV work\n",
    "\n",
    "*Visualize all numeric data\n",
    "\n",
    "*Normalize data?"
   ]
  },
  {
   "cell_type": "code",
   "execution_count": 1,
   "metadata": {
    "collapsed": false
   },
   "outputs": [],
   "source": [
    "'''\n",
    "This cell's function:\n",
    "Import all libraries that will be needed throughout document\n",
    "'''\n",
    "# This tells matplotlib not to try opening a new window for each plot.\n",
    "%matplotlib inline\n",
    "\n",
    "# General libraries.\n",
    "import re\n",
    "import numpy as np\n",
    "import matplotlib.pyplot as plt\n",
    "import json\n",
    "from pprint import pprint\n",
    "import datetime\n",
    "import pandas as pd\n",
    "\n",
    "# SK-learn libraries for learning.\n",
    "from sklearn.pipeline import Pipeline\n",
    "from sklearn.neighbors import KNeighborsClassifier\n",
    "from sklearn.linear_model import LogisticRegression\n",
    "from sklearn.naive_bayes import BernoulliNB, MultinomialNB, GaussianNB\n",
    "from sklearn.grid_search import GridSearchCV\n",
    "from sklearn.tree import DecisionTreeClassifier\n",
    "from sklearn.ensemble import RandomForestClassifier\n",
    "\n",
    "# SK-learn libraries for evaluation.\n",
    "from sklearn.metrics import confusion_matrix\n",
    "from sklearn import metrics\n",
    "from sklearn.metrics import classification_report\n",
    "from sklearn.cross_validation import cross_val_score\n",
    "\n",
    "\n",
    "# SK-learn libraries for feature extraction from text.\n",
    "from sklearn.feature_extraction.text import CountVectorizer, TfidfVectorizer\n",
    "\n"
   ]
  },
  {
   "cell_type": "code",
   "execution_count": 2,
   "metadata": {
    "collapsed": false
   },
   "outputs": [
    {
     "data": {
      "text/plain": [
       "(4040, 3030, 1010)"
      ]
     },
     "execution_count": 2,
     "metadata": {},
     "output_type": "execute_result"
    }
   ],
   "source": [
    "class Data_handler():\n",
    "    \n",
    "    if __name__ == \"__main__\":\n",
    "        dfTrain_full = pd.DataFrame()\n",
    "        dfTest = pd.DataFrame()\n",
    "        dfTrain = pd.DataFrame()\n",
    "        dfDev = pd.DataFrame()\n",
    "        trainColumnNames = []\n",
    "        testColumnNames = []\n",
    "    \n",
    "    def initialize_data(self,train_json, test_json, prop_train):\n",
    "        #Load in data as panda dataframes\n",
    "        with open(train_json,'r') as fp: \n",
    "            json_data = json.load(fp)\n",
    "        self.dfTrain_full = pd.io.json.json_normalize(json_data)\n",
    "\n",
    "        with open(test_json,'r') as fp: \n",
    "            json_data = json.load(fp)\n",
    "        self.dfTest = pd.io.json.json_normalize(json_data)\n",
    "\n",
    "        # Set np seed\n",
    "        np.random.seed(0)\n",
    "\n",
    "        #Shuffle train data and split into train and dev\n",
    "        self.dfTrain_full.reindex(np.random.permutation(self.dfTrain_full.index)) #shuffle\n",
    "        nTrain_full = self.dfTrain_full.shape[0]\n",
    "        self.dfTrain = self.dfTrain_full[:int(nTrain_full*prop_train)]\n",
    "        self.dfDev = self.dfTrain_full[int(nTrain_full*prop_train):]\n",
    "        \n",
    "        #Save number of observations in train and dev\n",
    "        nTrain = self.dfTrain.shape[0]\n",
    "        nDev = self.dfDev.shape[0]\n",
    "\n",
    "        #Save column names for reference\n",
    "        self.trainColumnNames = self.dfTrain.columns.tolist()\n",
    "        self.testColumnNames = self.dfTest.columns.tolist() #Note test features is only a subset!\n",
    "        \n",
    "        return nTrain_full, nTrain, nDev ################# WHY DOES THIS GET RETURNED? WHAT IS IT USED FOR?\n",
    "    \n",
    "    def getTrainFull(self):\n",
    "        return self.dfTrain_full   \n",
    "    def getTest(self):\n",
    "        return self.dfTest   \n",
    "    def getTrain(self):\n",
    "        return self.dfTrain   \n",
    "    def getDev(self):\n",
    "        return self.dfDev    \n",
    "    def getTrainColumnNames(self):\n",
    "        return self.trainColumnNames   \n",
    "    def getTestColumnNames(self):\n",
    "        return self.testColumnNames\n",
    "    \n",
    "# Load in our data to master_data. Proportion in train vs dev is set here. Changing it will take effect throughout everything else in the script (the magic of classes!)\n",
    "master_data = Data_handler()\n",
    "master_data.initialize_data('train.json', 'test.json',.75)\n"
   ]
  },
  {
   "cell_type": "code",
   "execution_count": 3,
   "metadata": {
    "collapsed": false
   },
   "outputs": [],
   "source": [
    "class FeatureEngineer():\n",
    "    '''\n",
    "    Module that contains some of our feature engineering methods. \n",
    "    Does not contain instance variables!\n",
    "    Outputs np arrays or dataframes as needed\n",
    "    '''\n",
    "    def separateTimestamp(self,df):\n",
    "        '''\n",
    "        separates time stamp (UTC) into month, day, hour. If user's local time is of interest, \n",
    "        use the non UTC data\n",
    "        input: any dataFrame containing the timestamp data\n",
    "        '''\n",
    "\n",
    "        timeStamps = df['unix_timestamp_of_request_utc'].values #numpy array of timestamps\n",
    "        timeStampsSeparate = [] #init new\n",
    "\n",
    "        # Loop over timestamps\n",
    "        for ts in timeStamps:\n",
    "            # Pull out relevant time info\n",
    "            d = datetime.datetime.fromtimestamp(ts)\n",
    "            month = d.strftime(\"%m\")\n",
    "            day_of_month = d.strftime(\"%d\")\n",
    "            hour = d.strftime(\"%H\")\n",
    "            # Append to results\n",
    "            timeStampsSeparate.append([int(month),int(day_of_month),int(hour)])\n",
    "        \n",
    "        #manually create labels\n",
    "        labels = ['month','day_of_month','hour']\n",
    "        #convert from python list to ndarray\n",
    "        return np.asarray(timeStampsSeparate), labels\n",
    "\n",
    "    def newTimeInfo(self,df):\n",
    "        '''\n",
    "        New expressions of time e.g day of week\n",
    "        '''\n",
    "        \n",
    "        timeStamps = df['unix_timestamp_of_request'].values #LOCAL time\n",
    "        timeStampsSeparate = [] #init new\n",
    "\n",
    "        # Loop over timestamps\n",
    "        for ts in timeStamps:\n",
    "            # Pull out relevant time info\n",
    "            d = datetime.datetime.fromtimestamp(ts)\n",
    "            day_of_week = d.isoweekday()\n",
    "            local_time =d.strftime(\"%H\")\n",
    "            # Append to results\n",
    "            timeStampsSeparate.append([int(day_of_week),int(local_time)])\n",
    "        \n",
    "        #convert from python list to ndarray\n",
    "        return np.asarray(timeStampsSeparate)\n",
    "        \n",
    "    def selectedNumericFeatures(self,df):\n",
    "        '''\n",
    "        Some hand picked numeric features that seem to work well in logistic regression\n",
    "        Dependency: separateTimestamp\n",
    "        '''\n",
    "        colNames = [master_data.getTestColumnNames()[i] for i in [5,7,8,9]] #hand picked to be plausible, not optimal \n",
    "        #numeric data\n",
    "        dfNum = df[colNames].values\n",
    "        #convert time stamp into nice format\n",
    "        dfTime, labelsTime = self.separateTimestamp(df)\n",
    "        #merge\n",
    "        combinedData = np.column_stack((dfNum,dfTime))\n",
    "        combinedLabels = colNames+labelsTime\n",
    "        return combinedData, combinedLabels\n",
    "    \n",
    "    def allNumericFeatures(self,df):\n",
    "        '''\n",
    "        All of the numeric features that come standard.\n",
    "        Dependency: separateTimestamp\n",
    "        '''\n",
    "        colNames = [master_data.getTestColumnNames()[i] for i in [4,5,6,7,8,9,10,12,13]] \n",
    "        #numeric data\n",
    "        dfNum = df[colNames].values\n",
    "        #convert time stamp into nice format\n",
    "        dfTime, labelsTime = self.separateTimestamp(df)\n",
    "        #merge\n",
    "        combinedData = np.column_stack((dfNum,dfTime))\n",
    "        combinedLabels = colNames+labelsTime\n",
    "        return combinedData, combinedLabels\n",
    "    \n",
    "    def simpleNewFeatures(self,df):\n",
    "        '''\n",
    "        Basic self explanatory features.\n",
    "        Input: whole df\n",
    "        '''\n",
    "        \n",
    "        #From text\n",
    "        title_length = [len(t) for t in df['request_title'].values]\n",
    "        req_length = [len(t) for t in df['request_text_edit_aware'].values]\n",
    "        avg_word_length = [float(len(t))/len(t.split(' ')) for t in df['request_text_edit_aware'].values] #complexity of lang\n",
    "        title_caps_norm = [sum(1 for c in t if c.isupper())/(float(len(t))+1) for t in df['request_title'].values]\n",
    "        req_caps_norm = [sum(1 for c in t if c.isupper())/(float(len(t))+1) for t in df['request_text_edit_aware'].values]\n",
    "        #num_all_caps_words\n",
    "        #num_repeated_words #perhaps normalize and/or remove shorter words\n",
    "        \n",
    "        ###special chars in text\n",
    "        num_numbers_norm = [sum(1 for c in t if c.isdigit())/(float(len(t))+1) for t in df['request_text_edit_aware'].values]\n",
    "        num_currency_chars_norm = [sum(1 for c in t if c in '$')/(float(len(t))+1) for t in df['request_text_edit_aware'].values]\n",
    "        num_exclamation_norm = [sum(1 for c in t if c in '!')/(float(len(t))+1) for t in df['request_text_edit_aware'].values]\n",
    "        num_commas_norm = [sum(1 for c in t if c in ',')/(float(len(t))+1) for t in df['request_text_edit_aware'].values]\n",
    "        \n",
    "        ###language\n",
    "        #grammar_errors #normalized for request length\n",
    "        #spelling_errors #normalized for request length\n",
    "        \n",
    "        f = np.asarray([title_length,\n",
    "                          req_length,\n",
    "                          avg_word_length,\n",
    "                          title_caps_norm,\n",
    "                          req_caps_norm,\n",
    "                          num_numbers_norm,\n",
    "                          num_currency_chars_norm,\n",
    "                          num_exclamation_norm,\n",
    "                          num_commas_norm]).T\n",
    "        \n",
    "        labels = ['title_length',\n",
    "                  'req_length',\n",
    "                  'avg_word_length',\n",
    "                  'title_caps_norm',\n",
    "                  'req_caps_norm',\n",
    "                  'num_numbers_norm',\n",
    "                  'num_currency_chars_norm',\n",
    "                  'num_exclamation_norm',\n",
    "                  'num_commas_norm']\n",
    "        \n",
    "        return f,labels\n",
    "    \n",
    "    def augNumericFeatures(self,df):\n",
    "        f1, l1 = self.simpleNewFeatures(df)\n",
    "        f2, l2 = self.allNumericFeatures(df)\n",
    "        return np.column_stack((f1,f2)),l1+l2\n",
    "    \n",
    "    def customNGrams(self,df):\n",
    "        '''\n",
    "        N Grams built by intuition\n",
    "        '''\n",
    "        #pay_it_forward = some regex to find phrase \"pay it forward\"\n",
    "        raise NotImplementedError\n",
    "        \n",
    "fe = FeatureEngineer()"
   ]
  },
  {
   "cell_type": "code",
   "execution_count": 23,
   "metadata": {
    "collapsed": false
   },
   "outputs": [],
   "source": [
    "class Model():\n",
    "    '''\n",
    "    In Model and child classes, we use Fit and Predict for data sets to avoid confusion. These \n",
    "    can actually be train, dev or test in various combinations depending on how it is initialized.\n",
    "    '''\n",
    "    def __init__(self,dfFit,dfPredict):\n",
    "        self.dfFit = dfFit\n",
    "        self.dfPredict = dfPredict\n",
    "        self.fit_labels = self.dfFit['requester_received_pizza'].values\n",
    "    \n",
    "    \"\"\"\n",
    "    def mod_for_ensemble(self):\n",
    "        '''\n",
    "        Replace test data with train again. \n",
    "        Use this after init_test or init_final if you want to predict on the same data you fit with.\n",
    "        '''\n",
    "        self.test_data = self.train_data\n",
    "        self.prediction = np.zeros((len(self.test_data.values))) \n",
    "    \n",
    "    def init_final(self):\n",
    "        self.train_data = master_data.getTrainFull()\n",
    "        self.test_data = master_data.getTest()\n",
    "        self.prediction = np.zeros((len(self.test_data.values)))\n",
    "        self.train_labels = self.train_data['requester_received_pizza'].values\n",
    "    \"\"\"\n",
    "    def test(self,criteria=metrics.roc_auc_score):\n",
    "        try:\n",
    "            predict_labels = self.dfPredict['requester_received_pizza'].values\n",
    "            return criteria(predict_labels,self.prediction)\n",
    "        except:\n",
    "            return \"Failed! 'dfPredict' has no labels, no prediction present or invalid test criteria\"\n",
    "    \n",
    "    def writeSubmission(self,fileName='submit_to_kaggle.csv'):\n",
    "        try:\n",
    "            '''\n",
    "            Ensure the test data hasn't been shuffled or your labels won't match the request_id's.\n",
    "            '''\n",
    "            #extract request_id so we can match against predictions for submission to kaggle\n",
    "            req = self.dfPredict['request_id']\n",
    "            #make prediction into a pandas series\n",
    "            print self.prediction.astype(int)\n",
    "            pred_series = pd.Series(self.prediction.astype(int),name=\"requester_received_pizza\")\n",
    "            #now join into data frame\n",
    "            out = pd.concat([req,pred_series], axis=1)\n",
    "            #write data frame to csv (using kaggles sample submission csv for correct format)\n",
    "            out.to_csv(fileName,index=False)\n",
    "            print \"Written to File!\"\n",
    "        except:\n",
    "            return \"Failed! Is 'dfPredict' the test set?\"\n",
    "    \n",
    "    def getPrediction(self):\n",
    "        return self.prediction\n",
    "    \n",
    "    def gridSearch(self,params):\n",
    "        '''\n",
    "        implement GridSearchCV in class\n",
    "        '''\n",
    "        gs = GridSearchCV(self.classifier(),params,scoring='roc_auc')\n",
    "        gs.fit(self.fit_data,self.fit_labels)\n",
    "        print gs.best_params_\n",
    "        return gs\n",
    "    \n",
    "    def crossVal(self,params=None):\n",
    "        '''\n",
    "        Implement cross validation score\n",
    "        '''\n",
    "        scores = cross_val_score(self.classifier(**params),\n",
    "                                 self.fit_data,\n",
    "                                 self.fit_labels,\n",
    "                                 cv=4, scoring='roc_auc')\n",
    "        print \"Mean AUC:\", np.mean(scores)\n",
    "        return scores\n"
   ]
  },
  {
   "cell_type": "code",
   "execution_count": 24,
   "metadata": {
    "collapsed": false
   },
   "outputs": [],
   "source": [
    "class Baseline(Model):\n",
    "    '''\n",
    "    Any model just needs to implicitly inherit the model class\n",
    "    -Test this with baseline(master_data.getTrain(),master_data.getDev()) and\n",
    "                   baseline.test()\n",
    "    -Generate output with baseline(master_data.getTrainFull(),master_data.getTest()) and\n",
    "                         baseline.writeSubmission()\n",
    "    \n",
    "    This is the first model we submitted to Kaggle\n",
    "    '''\n",
    "    def __init__(self,dfFit,dfPredict):\n",
    "        Model.__init__(self,dfFit,dfPredict)\n",
    "        self.classifier = LogisticRegression\n",
    "        #how to process data\n",
    "        raw_fit = self.dfFit['request_text_edit_aware'].values\n",
    "        raw_predict = self.dfPredict['request_text_edit_aware'].values\n",
    "        self.fit_data, self.predict_data = self.vectorize(raw_fit,raw_predict)\n",
    "        \n",
    "    def run_model(self):\n",
    "        self.prediction = self.log_reg()\n",
    "\n",
    "    def vectorize(self,raw_fit,raw_predict):\n",
    "        # transform the train data\n",
    "        vectorizer_train = CountVectorizer()\n",
    "        fit_data = vectorizer_train.fit_transform(raw_fit)\n",
    "        vocab_train = vectorizer_train.get_feature_names()\n",
    "        # transform the dev data using the same vocab\n",
    "        predict_data = vectorizer_train.transform(raw_predict)     # 'transform' function will preserve previous vocab\n",
    "        return fit_data, predict_data\n",
    "\n",
    "    def log_reg(self):\n",
    "        lor = self.classifier()\n",
    "        lor.fit(self.fit_data, self.fit_labels)\n",
    "        lor_pred = lor.predict(self.predict_data)\n",
    "        # Return the prediction matrix, coefficients\n",
    "        return lor_pred"
   ]
  },
  {
   "cell_type": "code",
   "execution_count": 25,
   "metadata": {
    "collapsed": true
   },
   "outputs": [],
   "source": [
    "class BaselineTuned(Baseline):\n",
    "    '''\n",
    "    Overhaul log_reg function to include tuned params\n",
    "    params found by running tuneBaseline() in Experiments cell\n",
    "    '''\n",
    "    def log_reg(self):\n",
    "        lor = self.classifier(penalty='l1',C=0.092)\n",
    "        lor.fit(self.fit_data, self.fit_labels)\n",
    "        lor_pred = lor.predict(self.predict_data)\n",
    "        # Return the prediction matrix, coefficients\n",
    "        return lor_pred"
   ]
  },
  {
   "cell_type": "code",
   "execution_count": 7,
   "metadata": {
    "collapsed": false
   },
   "outputs": [],
   "source": [
    "class NumericModel(Model):\n",
    "    '''\n",
    "    Simple models with numeric data straight out of df\n",
    "    '''\n",
    "    def __init__(self,dfFit,dfPredict):\n",
    "        Model.__init__(self,dfFit,dfPredict)\n",
    "        self.classifier = GaussianNB\n",
    "        #how to process data\n",
    "        self.fit_data,_ = fe.augNumericFeatures(self.dfFit)\n",
    "        self.predict_data,_ = fe.augNumericFeatures(self.dfPredict)\n",
    "    \n",
    "    def run_model(self):\n",
    "        #predict\n",
    "        self.prediction = self.classify()    \n",
    "    \n",
    "    def classify(self):\n",
    "        nb = self.classifier()\n",
    "        nb.fit(self.fit_data, self.fit_labels)\n",
    "        return nb.predict(self.predict_data) \n"
   ]
  },
  {
   "cell_type": "code",
   "execution_count": 39,
   "metadata": {
    "collapsed": true
   },
   "outputs": [],
   "source": [
    "class DecisionTreeModel(Model):\n",
    "    '''\n",
    "    Basic decision tree. Runs on numeric features\n",
    "    '''\n",
    "    def __init__(self,dfFit,dfPredict):\n",
    "        Model.__init__(self,dfFit,dfPredict)\n",
    "        self.classifier = DecisionTreeClassifier\n",
    "        #how to process data\n",
    "        self.fit_data,self.feature_names = fe.augNumericFeatures(self.dfFit)\n",
    "        self.predict_data,_ = fe.augNumericFeatures(self.dfPredict)\n",
    "    \n",
    "    def run_model(self):\n",
    "        self.prediction = self.classify()  \n",
    "    \n",
    "    def classify(self):\n",
    "        self.c = self.classifier(criterion='entropy') #criterion can be 'gini' or 'entropy'\n",
    "        self.c.fit(self.fit_data, self.fit_labels)\n",
    "        return self.c.predict(self.predict_data) \n",
    "        \n",
    "    def extractFeatureImportance(self):\n",
    "        importances = self.c.feature_importances_\n",
    "        stdDev = np.zeros(importances.shape)\n",
    "        print importances.shape\n",
    "        print stdDev.shape\n",
    "        ind = np.argsort(-importances)\n",
    "        importances_sorted = importances[ind]\n",
    "        importances_names = np.asarray(self.feature_names)[ind]\n",
    "        stdDev_sorted = stdDev[ind]\n",
    "        return importances_names,importances_sorted,stdDev_sorted"
   ]
  },
  {
   "cell_type": "code",
   "execution_count": 41,
   "metadata": {
    "collapsed": false
   },
   "outputs": [
    {
     "name": "stdout",
     "output_type": "stream",
     "text": [
      "0.521602837104\n",
      "(21L,)\n",
      "(21L,)\n",
      "(21L,)\n",
      "(21L,)\n"
     ]
    },
    {
     "data": {
      "image/png": "[encoded data removed]",
      "text/plain": [
       "<matplotlib.figure.Figure at 0x19c08eb8>"
      ]
     },
     "metadata": {},
     "output_type": "display_data"
    }
   ],
   "source": [
    "#Run test of decision tree\n",
    "decision_tree_model = DecisionTreeModel(master_data.getTrain(),master_data.getDev())\n",
    "decision_tree_model.run_model()\n",
    "print decision_tree_model.test()\n",
    "\n",
    "decision_tree_model.extractFeatureImportance()\n",
    "featureImportanceVisualizer(decision_tree_model)\n"
   ]
  },
  {
   "cell_type": "code",
   "execution_count": 26,
   "metadata": {
    "collapsed": false
   },
   "outputs": [],
   "source": [
    "class RandomForestModel(Model):\n",
    "    '''\n",
    "    Random Forest   \n",
    "    '''\n",
    "    def __init__(self,dfFit,dfPredict):\n",
    "        Model.__init__(self,dfFit,dfPredict)\n",
    "        self.classifier = RandomForestClassifier\n",
    "        #how to process data\n",
    "        self.fit_data,self.feature_names = fe.augNumericFeatures(self.dfFit)\n",
    "        self.predict_data,_ = fe.augNumericFeatures(self.dfPredict)\n",
    "    \n",
    "    def run_model(self):\n",
    "        #predict\n",
    "        self.prediction = self.classify()  \n",
    "    \n",
    "    def classify(self):\n",
    "        self.c = RandomForestClassifier(n_estimators=100,\n",
    "                                    criterion='entropy')#,\n",
    "                                    #max_features=10) #criterion can be 'gini' or 'entropy'\n",
    "        self.c.fit(self.fit_data, self.fit_labels)\n",
    "        return self.c.predict(self.predict_data) \n",
    "    \n",
    "    def extractFeatureImportance(self):\n",
    "        stdDev = np.std([dTree.feature_importances_ for dTree in self.c],axis=0)\n",
    "        importances = self.c.feature_importances_\n",
    "        ind = np.argsort(-importances)\n",
    "        importances_sorted = importances[ind]\n",
    "        importances_names = np.asarray(self.feature_names)[ind]\n",
    "        stdDev_sorted = stdDev[ind]\n",
    "        return importances_names,importances_sorted,stdDev_sorted\n",
    "        \n",
    "    "
   ]
  },
  {
   "cell_type": "code",
   "execution_count": 20,
   "metadata": {
    "collapsed": false
   },
   "outputs": [
    {
     "name": "stdout",
     "output_type": "stream",
     "text": [
      "{'n_estimators': 170}\n"
     ]
    }
   ],
   "source": [
    "#RF for cross val and GS purposes\n",
    "rf_model = RandomForestModel(master_data.getTrain(),master_data.getDev())\n",
    "\n",
    "#Run grid search\n",
    "params = {'n_estimators' : range(10,200,10)}\n",
    "gs = rf_model.gridSearch(params)\n"
   ]
  },
  {
   "cell_type": "code",
   "execution_count": 21,
   "metadata": {
    "collapsed": false
   },
   "outputs": [
    {
     "name": "stdout",
     "output_type": "stream",
     "text": [
      "Mean AUC: 0.617565202982\n"
     ]
    },
    {
     "data": {
      "text/plain": [
       "array([ 0.60221663,  0.6131904 ,  0.60648174,  0.64837203])"
      ]
     },
     "execution_count": 21,
     "metadata": {},
     "output_type": "execute_result"
    }
   ],
   "source": [
    "#now cross val on best GS values\n",
    "rf_model.crossVal({'n_estimators': 170})\n"
   ]
  },
  {
   "cell_type": "code",
   "execution_count": 31,
   "metadata": {
    "collapsed": true
   },
   "outputs": [],
   "source": [
    "class EnsembleForest(RandomForestModel):\n",
    "    '''\n",
    "    RF that incorporates text data via votes of another classifier\n",
    "    BROKEN: Because ensemble1 init_test and doesn't ever init_final, you can't use this model's \n",
    "    init_final or finalize.\n",
    "    '''\n",
    "    def __init__(self,dfFit,dfPredict):\n",
    "        RandomForestModel.__init__(self,dfFit,dfPredict)\n",
    "        #how to process data\n",
    "        self.ensembleFeatures()\n",
    "    \n",
    "    def ensembleFeatures(self):\n",
    "        '''\n",
    "        creates self.fit_data, self.predict_data and self.feature_names\n",
    "        '''\n",
    "        ###FIT features\n",
    "        f1,l1 = fe.augNumericFeatures(self.dfFit) \n",
    "        #add outputs of tuned baseline classifier\n",
    "        lvl1class = BaselineTuned(self.dfFit,self.dfFit) #note predicts it's own train data!\n",
    "        lvl1class.run_model()\n",
    "        f2 = lvl1class.getPrediction()          \n",
    "        l2 = ['lvl1classifier']\n",
    "        self.fit_data = np.column_stack((f1,f2))\n",
    "        ###FEATURE Labels\n",
    "        self.feature_names = l1+l2\n",
    "        ###PREDICT features\n",
    "        f1,_ = fe.augNumericFeatures(self.dfPredict)\n",
    "        lvl1class = BaselineTuned(self.dfFit,self.dfPredict) #this time predict on predict data\n",
    "        lvl1class.run_model()\n",
    "        f2 = lvl1class.getPrediction()          \n",
    "        self.predict_data = np.column_stack((f1,f2))\n",
    "   "
   ]
  },
  {
   "cell_type": "code",
   "execution_count": 43,
   "metadata": {
    "collapsed": true
   },
   "outputs": [],
   "source": [
    "class EnsembleTree(DecisionTreeModel):\n",
    "    '''\n",
    "    RF that incorporates text data via votes of another classifier\n",
    "    BROKEN: Because ensemble1 init_test and doesn't ever init_final, you can't use this model's \n",
    "    init_final or finalize.\n",
    "    '''\n",
    "    def __init__(self,dfFit,dfPredict):\n",
    "        DecisionTreeModel.__init__(self,dfFit,dfPredict)\n",
    "        #how to process data\n",
    "        self.ensembleFeatures()\n",
    "    \n",
    "    def ensembleFeatures(self):\n",
    "        '''\n",
    "        creates self.fit_data, self.predict_data and self.feature_names\n",
    "        '''\n",
    "        ###FIT features\n",
    "        f1,l1 = fe.augNumericFeatures(self.dfFit) \n",
    "        #add outputs of tuned baseline classifier\n",
    "        lvl1class = BaselineTuned(self.dfFit,self.dfFit) #note predicts it's own train data!\n",
    "        lvl1class.run_model()\n",
    "        f2 = lvl1class.getPrediction()          \n",
    "        l2 = ['lvl1classifier']\n",
    "        self.fit_data = np.column_stack((f1,f2))\n",
    "        ###FEATURE Labels\n",
    "        self.feature_names = l1+l2\n",
    "        ###PREDICT features\n",
    "        f1,_ = fe.augNumericFeatures(self.dfPredict)\n",
    "        lvl1class = BaselineTuned(self.dfFit,self.dfPredict) #this time predict on predict data\n",
    "        lvl1class.run_model()\n",
    "        f2 = lvl1class.getPrediction()          \n",
    "        self.predict_data = np.column_stack((f1,f2))"
   ]
  },
  {
   "cell_type": "code",
   "execution_count": 10,
   "metadata": {
    "collapsed": true
   },
   "outputs": [],
   "source": [
    "class EnsembleNB(NumericModel):\n",
    "    '''\n",
    "    NB that incorporates text data via votes of another classifier\n",
    "    BROKEN: Because ensemble1 init_test and doesn't ever init_final, you can't use this model's \n",
    "    init_final or finalize.\n",
    "    '''\n",
    "    def ensemble1(self):\n",
    "        e = Baseline()\n",
    "        e.init_test()\n",
    "        e.run_model()\n",
    "        #get dev data prediction\n",
    "        devPrediction = e.getPrediction()\n",
    "        #now reset internal data so we can get test data prediction\n",
    "        e.mod_for_ensemble()\n",
    "        e.run_model()\n",
    "        testPrediction = e.getPrediction()\n",
    "        return testPrediction, devPrediction\n",
    "    \n",
    "    def init_final(self):\n",
    "        raise NotImplementedError('Low level ensemble is hard coded to init_test at the moment')\n",
    "    \n",
    "    def run_model(self):\n",
    "        train1 = fe.augNumericFeatures(self.train_data)\n",
    "        test1 = fe.augNumericFeatures(self.test_data)\n",
    "        train2,test2 = self.ensemble1()\n",
    "        train = np.column_stack((train1,train2))\n",
    "        test = np.column_stack((test1,test2))\n",
    "        print train.shape\n",
    "        print train1.shape\n",
    "        print train2.shape\n",
    "        print test.shape\n",
    "        print test1.shape\n",
    "        print test2.shape\n",
    "        #predict\n",
    "        self.prediction = self.classify(train,test)  "
   ]
  },
  {
   "cell_type": "code",
   "execution_count": 11,
   "metadata": {
    "collapsed": false
   },
   "outputs": [
    {
     "ename": "NotImplementedError",
     "evalue": "Need a 28 hour day",
     "output_type": "error",
     "traceback": [
      "\u001b[1;31m---------------------------------------------------------------------------\u001b[0m",
      "\u001b[1;31mNotImplementedError\u001b[0m                       Traceback (most recent call last)",
      "\u001b[1;32m<ipython-input-11-c3dc3b2474ba>\u001b[0m in \u001b[0;36m<module>\u001b[1;34m()\u001b[0m\n\u001b[1;32m----> 1\u001b[1;33m \u001b[1;32mclass\u001b[0m \u001b[0mStackedRegression\u001b[0m\u001b[1;33m(\u001b[0m\u001b[1;33m)\u001b[0m\u001b[1;33m:\u001b[0m\u001b[1;33m\u001b[0m\u001b[0m\n\u001b[0m\u001b[0;32m      2\u001b[0m     '''\n\u001b[0;32m      3\u001b[0m     \u001b[0mStacking\u001b[0m \u001b[1;32mwith\u001b[0m \u001b[0mlogistic\u001b[0m \u001b[0mregression\u001b[0m\u001b[1;33m.\u001b[0m\u001b[1;33m\u001b[0m\u001b[0m\n\u001b[0;32m      4\u001b[0m     \u001b[0mMakes\u001b[0m \u001b[0ma\u001b[0m \u001b[0mlinear\u001b[0m \u001b[0mcombination\u001b[0m \u001b[0mof\u001b[0m \u001b[0moutputs\u001b[0m \u001b[0mof\u001b[0m \u001b[0mother\u001b[0m \u001b[0mmodels\u001b[0m\u001b[1;33m\u001b[0m\u001b[0m\n\u001b[0;32m      5\u001b[0m     \u001b[0mhttp\u001b[0m\u001b[1;33m:\u001b[0m\u001b[1;33m//\u001b[0m\u001b[0mlink\u001b[0m\u001b[1;33m.\u001b[0m\u001b[0mspringer\u001b[0m\u001b[1;33m.\u001b[0m\u001b[0mcom\u001b[0m\u001b[1;33m/\u001b[0m\u001b[0marticle\u001b[0m\u001b[1;33m/\u001b[0m\u001b[1;36m10.1007\u001b[0m\u001b[1;33m%\u001b[0m\u001b[1;36m2\u001b[0m\u001b[0mFBF00117832\u001b[0m\u001b[1;33m\u001b[0m\u001b[0m\n",
      "\u001b[1;32m<ipython-input-11-c3dc3b2474ba>\u001b[0m in \u001b[0;36mStackedRegression\u001b[1;34m()\u001b[0m\n\u001b[0;32m      5\u001b[0m     \u001b[0mhttp\u001b[0m\u001b[1;33m:\u001b[0m\u001b[1;33m//\u001b[0m\u001b[0mlink\u001b[0m\u001b[1;33m.\u001b[0m\u001b[0mspringer\u001b[0m\u001b[1;33m.\u001b[0m\u001b[0mcom\u001b[0m\u001b[1;33m/\u001b[0m\u001b[0marticle\u001b[0m\u001b[1;33m/\u001b[0m\u001b[1;36m10.1007\u001b[0m\u001b[1;33m%\u001b[0m\u001b[1;36m2\u001b[0m\u001b[0mFBF00117832\u001b[0m\u001b[1;33m\u001b[0m\u001b[0m\n\u001b[0;32m      6\u001b[0m     '''\n\u001b[1;32m----> 7\u001b[1;33m     \u001b[1;32mraise\u001b[0m \u001b[0mNotImplementedError\u001b[0m\u001b[1;33m(\u001b[0m\u001b[1;34m\"Need a 28 hour day\"\u001b[0m\u001b[1;33m)\u001b[0m\u001b[1;33m\u001b[0m\u001b[0m\n\u001b[0m",
      "\u001b[1;31mNotImplementedError\u001b[0m: Need a 28 hour day"
     ]
    }
   ],
   "source": [
    "class StackedRegression():\n",
    "    '''\n",
    "    Stacking with logistic regression.\n",
    "    Makes a linear combination of outputs of other models\n",
    "    http://link.springer.com/article/10.1007%2FBF00117832\n",
    "    '''\n",
    "    raise NotImplementedError(\"Need a 28 hour day\")"
   ]
  },
  {
   "cell_type": "code",
   "execution_count": 11,
   "metadata": {
    "collapsed": false
   },
   "outputs": [
    {
     "name": "stdout",
     "output_type": "stream",
     "text": [
      "[u'giver_username_if_known',\n",
      " u'number_of_downvotes_of_request_at_retrieval',\n",
      " u'number_of_upvotes_of_request_at_retrieval',\n",
      " u'post_was_edited',\n",
      " u'request_id',\n",
      " u'request_number_of_comments_at_retrieval',\n",
      " u'request_text',\n",
      " u'request_text_edit_aware',\n",
      " u'request_title',\n",
      " u'requester_account_age_in_days_at_request',\n",
      " u'requester_account_age_in_days_at_retrieval',\n",
      " u'requester_days_since_first_post_on_raop_at_request',\n",
      " u'requester_days_since_first_post_on_raop_at_retrieval',\n",
      " u'requester_number_of_comments_at_request',\n",
      " u'requester_number_of_comments_at_retrieval',\n",
      " u'requester_number_of_comments_in_raop_at_request',\n",
      " u'requester_number_of_comments_in_raop_at_retrieval',\n",
      " u'requester_number_of_posts_at_request',\n",
      " u'requester_number_of_posts_at_retrieval',\n",
      " u'requester_number_of_posts_on_raop_at_request',\n",
      " u'requester_number_of_posts_on_raop_at_retrieval',\n",
      " u'requester_number_of_subreddits_at_request',\n",
      " u'requester_received_pizza',\n",
      " u'requester_subreddits_at_request',\n",
      " u'requester_upvotes_minus_downvotes_at_request',\n",
      " u'requester_upvotes_minus_downvotes_at_retrieval',\n",
      " u'requester_upvotes_plus_downvotes_at_request',\n",
      " u'requester_upvotes_plus_downvotes_at_retrieval',\n",
      " u'requester_user_flair',\n",
      " u'requester_username',\n",
      " u'unix_timestamp_of_request',\n",
      " u'unix_timestamp_of_request_utc']\n",
      "\n",
      "\n",
      "request_text_edit_aware\n",
      "request_title\n",
      "\n",
      "\n",
      "                             request_text_edit_aware  \\\n",
      "0  Hi I am in need of food for my 4 children we a...   \n",
      "1  I spent the last money I had on gas today. Im ...   \n",
      "2  My girlfriend decided it would be a good idea ...   \n",
      "3  It's cold, I'n hungry, and to be completely ho...   \n",
      "4  hey guys:\\n I love this sub. I think it's grea...   \n",
      "\n",
      "                                       request_title  \n",
      "0            Request Colorado Springs Help Us Please  \n",
      "1  [Request] California, No cash and I could use ...  \n",
      "2  [Request] Hungry couple in Dundee, Scotland wo...  \n",
      "3  [Request] In Canada (Ontario), just got home f...  \n",
      "4  [Request] Old friend coming to visit. Would LO...  \n",
      "\n",
      "\n",
      "<type 'numpy.ndarray'>\n",
      "(3030L, 2L)\n",
      "\n",
      "\n",
      "(3030L,)   (1010L,)   (4040L,)\n",
      "\n",
      "\n",
      "(3030L,)   (3030L,)   (3030L, 2L)\n"
     ]
    },
    {
     "data": {
      "text/plain": [
       "'\\nTo use:\\n1) instantiate your model class\\n2) initialize it as either test or final\\n3) run it and either test or finalize it\\n\\n'"
      ]
     },
     "execution_count": 11,
     "metadata": {},
     "output_type": "execute_result"
    }
   ],
   "source": [
    "'''\n",
    "TUTORIAL: This cell shows how the dataframes above get accessed and turned into usable numpy arrays\n",
    "'''\n",
    "\n",
    "###Task: Extracting message text AND title text into a feature vector:\n",
    "#first find name of column by printing out the list of names\n",
    "trainColumnNames = master_data.getTrainColumnNames()\n",
    "pprint(trainColumnNames) #looks like we want 'request_text_edit_aware' and 'request_title'\n",
    "#find which number this is or manually type column name\n",
    "print '\\n'\n",
    "print trainColumnNames[7]\n",
    "print trainColumnNames[8]\n",
    "\n",
    "#two ways to get data we want:\n",
    "print '\\n'\n",
    "X_train = master_data.getTrain()[['request_text_edit_aware','request_title']] #method 1\n",
    "X_train = master_data.getTrain()[[trainColumnNames[7],trainColumnNames[8]]] #method 2\n",
    "print X_train.head() #.head() just prints the first 5 rows\n",
    "\n",
    "#The above X_train is still a pandas dataframe. Converting to numpy array for sklearn is as simple as:\n",
    "print '\\n'\n",
    "X_train = X_train.values\n",
    "print type(X_train)\n",
    "print X_train.shape\n",
    "\n",
    "#In summary (quick way):\n",
    "X_train = master_data.getTrain()[['request_text_edit_aware','request_title']].values \n",
    "\n",
    "###Task: Join 2 numpy arrays horizontally (e.g. merge train and dev for final submission)\n",
    "train_data = master_data.getTrain()['request_text_edit_aware'].values\n",
    "dev_data = master_data.getDev()['request_text_edit_aware'].values\n",
    "merged_data = np.concatenate((train_data,dev_data),axis=0)\n",
    "print '\\n'\n",
    "print train_data.shape,' ',dev_data.shape,' ',merged_data.shape\n",
    "\n",
    "###Task: Join 2 numpy arrays vertically (e.g. add a bunch of features)\n",
    "train_data1 = master_data.getTrain()['request_text_edit_aware'].values\n",
    "#now we want more features... say from some feature engineering process\n",
    "train_data2 = master_data.getTrain()['request_title'].values\n",
    "train_data_merged = np.column_stack((train_data1,train_data2)) #<---- where the action is at!\n",
    "print '\\n'\n",
    "print train_data1.shape,' ',train_data2.shape,' ',train_data_merged.shape\n",
    "\n",
    "###Task: Use the Classes\n",
    "'''\n",
    "To use:\n",
    "1) instantiate your model class\n",
    "2) initialize it as either test or final\n",
    "3) run it and either test or finalize it\n",
    "\n",
    "'''"
   ]
  },
  {
   "cell_type": "code",
   "execution_count": 13,
   "metadata": {
    "collapsed": false
   },
   "outputs": [
    {
     "name": "stdout",
     "output_type": "stream",
     "text": [
      "0.55160457863\n"
     ]
    }
   ],
   "source": [
    "# Run test of baseline\n",
    "baseline_model = Baseline(master_data.getTrain(),master_data.getDev())\n",
    "baseline_model.run_model()\n",
    "print baseline_model.test()"
   ]
  },
  {
   "cell_type": "code",
   "execution_count": 100,
   "metadata": {
    "collapsed": false
   },
   "outputs": [
    {
     "name": "stdout",
     "output_type": "stream",
     "text": [
      "[0 0 0 ..., 0 1 0]\n"
     ]
    }
   ],
   "source": [
    "# Run final of baseline\n",
    "baseline_model = Baseline(master_data.getTrainFull(),master_data.getTest())\n",
    "baseline_model.run_model()\n",
    "baseline_model.writeSubmission('test_finalize.csv')"
   ]
  },
  {
   "cell_type": "code",
   "execution_count": 15,
   "metadata": {
    "collapsed": false
   },
   "outputs": [
    {
     "name": "stdout",
     "output_type": "stream",
     "text": [
      "test result:  0.502081915045\n",
      "Mean AUC: 0.583418398092\n"
     ]
    }
   ],
   "source": [
    "# Run test of BaselineTuned\n",
    "tuned = BaselineTuned(master_data.getTrain(),master_data.getDev())\n",
    "tuned.run_model()\n",
    "print 'test result: ', tuned.test()\n",
    "\n",
    "crossVal = tuned.crossVal({'penalty': 'l1', 'C': 0.092})"
   ]
  },
  {
   "cell_type": "code",
   "execution_count": 16,
   "metadata": {
    "collapsed": false
   },
   "outputs": [
    {
     "name": "stdout",
     "output_type": "stream",
     "text": [
      "[0 0 0 ..., 0 1 0]\n"
     ]
    }
   ],
   "source": [
    "# Run final of BaselineTuned\n",
    "tuned = Baseline(master_data.getTrainFull(),master_data.getTest())\n",
    "tuned.run_model()\n",
    "tuned.writeSubmission('test_finalize.csv')"
   ]
  },
  {
   "cell_type": "code",
   "execution_count": 130,
   "metadata": {
    "collapsed": false
   },
   "outputs": [
    {
     "name": "stdout",
     "output_type": "stream",
     "text": [
      "0.530933194011\n"
     ]
    }
   ],
   "source": [
    "#Run NumericModel\n",
    "numeric_model = NumericModel(master_data.getTrain(),master_data.getDev())\n",
    "numeric_model.run_model()\n",
    "print numeric_model.test()"
   ]
  },
  {
   "cell_type": "code",
   "execution_count": 131,
   "metadata": {
    "collapsed": false
   },
   "outputs": [
    {
     "name": "stdout",
     "output_type": "stream",
     "text": [
      "0.524998812596\n"
     ]
    }
   ],
   "source": [
    "#Run test of decision tree\n",
    "decision_tree_model = DecisionTreeModel(master_data.getTrain(),master_data.getDev())\n",
    "decision_tree_model.run_model()\n",
    "print decision_tree_model.test()"
   ]
  },
  {
   "cell_type": "code",
   "execution_count": 20,
   "metadata": {
    "collapsed": false
   },
   "outputs": [
    {
     "name": "stdout",
     "output_type": "stream",
     "text": [
      "0.51822005499\n"
     ]
    }
   ],
   "source": [
    "#Run test of random forest\n",
    "rf_model = RandomForestModel(master_data.getTrain(),master_data.getDev())\n",
    "rf_model.run_model()\n",
    "print rf_model.test()\n"
   ]
  },
  {
   "cell_type": "code",
   "execution_count": 21,
   "metadata": {
    "collapsed": false
   },
   "outputs": [
    {
     "data": {
      "image/png": "[encoded data removed]",
      "text/plain": [
       "<matplotlib.figure.Figure at 0x1f11ecc0>"
      ]
     },
     "metadata": {},
     "output_type": "display_data"
    }
   ],
   "source": [
    "#Run feature importance vis using random forest\n",
    "featureImportanceVisualizer(rf_model)"
   ]
  },
  {
   "cell_type": "code",
   "execution_count": 35,
   "metadata": {
    "collapsed": false
   },
   "outputs": [
    {
     "name": "stdout",
     "output_type": "stream",
     "text": [
      "0.51427787365\n"
     ]
    },
    {
     "data": {
      "image/png": "[encoded data removed]",
      "text/plain": [
       "<matplotlib.figure.Figure at 0x1ed10160>"
      ]
     },
     "metadata": {},
     "output_type": "display_data"
    }
   ],
   "source": [
    "#Run test of EnsembleForest\n",
    "ef_model = EnsembleForest(master_data.getTrain(),master_data.getDev())\n",
    "ef_model.run_model()\n",
    "print ef_model.test()\n",
    "\n",
    "#Run feature importance vis using random forest\n",
    "featureImportanceVisualizer(ef_model)"
   ]
  },
  {
   "cell_type": "code",
   "execution_count": 45,
   "metadata": {
    "collapsed": false
   },
   "outputs": [
    {
     "name": "stdout",
     "output_type": "stream",
     "text": [
      "0.523573927774\n",
      "(22L,)\n",
      "(22L,)\n"
     ]
    },
    {
     "data": {
      "image/png": "[encoded data removed]",
      "text/plain": [
       "<matplotlib.figure.Figure at 0x19f33f60>"
      ]
     },
     "metadata": {},
     "output_type": "display_data"
    }
   ],
   "source": [
    "#Run test of EnsembleTree\n",
    "et_model = EnsembleTree(master_data.getTrain(),master_data.getDev())\n",
    "et_model.run_model()\n",
    "print et_model.test()\n",
    "\n",
    "#Run feature importance vis using random forest\n",
    "featureImportanceVisualizer(et_model)"
   ]
  },
  {
   "cell_type": "code",
   "execution_count": 285,
   "metadata": {
    "collapsed": false
   },
   "outputs": [
    {
     "name": "stdout",
     "output_type": "stream",
     "text": [
      "(3030L, 22L)\n",
      "(3030L, 21L)\n",
      "(3030L,)\n",
      "(1010L, 22L)\n",
      "(1010L, 21L)\n",
      "(1010L,)\n",
      "0.550947548407\n"
     ]
    }
   ],
   "source": [
    "#Run test of EnsembleNB\n",
    "enb_model = EnsembleForest()\n",
    "enb_model.init_test()\n",
    "enb_model.run_model()\n",
    "print enb_model.test()\n"
   ]
  },
  {
   "cell_type": "code",
   "execution_count": 68,
   "metadata": {
    "collapsed": false
   },
   "outputs": [],
   "source": [
    "\"\"\"\n",
    "EXPERIMENTS Cell\n",
    "Cell for all experiments that don't fit neatly elsewhere.\n",
    "\"\"\"\n",
    "    \n",
    "def colNamePrint():\n",
    "    '''\n",
    "    Just print out TEST column names w indices for ref.\n",
    "    '''\n",
    "    c = master_data.getTestColumnNames()\n",
    "    for i,n in enumerate(c):\n",
    "        print i, '_',n\n",
    "    #END\n",
    "\n",
    "def correlationVis(df):\n",
    "    pass\n",
    "\n",
    "def tuneBaseline():\n",
    "    '''\n",
    "    Conducts a GridSearch of LR params\n",
    "    Visualizes result - useful to discern if result is from overfitting or not\n",
    "    WARNING: Takes several minutes!\n",
    "    '''\n",
    "\n",
    "    #initiate a Baseline obj\n",
    "    baseline_model = Baseline(master_data.getTrain(),master_data.getDev())\n",
    "\n",
    "    ####Run grid search\n",
    "    params = {'penalty': ['l1','l2'],'C':np.logspace(-2,2,30)}\n",
    "    gs = baseline_model.gridSearch(params)\n",
    "\n",
    "    ####Print and plot results\n",
    "    scores = gs.grid_scores_\n",
    "\n",
    "    l1_means = []\n",
    "    l2_means = []\n",
    "    C = []\n",
    "\n",
    "    for i in range(len(gs.grid_scores_)):\n",
    "        #append to relevant means vector\n",
    "        if scores[i][0]['penalty'] == 'l1':\n",
    "            l1_means.append(scores[i][1])\n",
    "            #append C vector\n",
    "            C.append(scores[i][0]['C'])\n",
    "        elif scores[i][0]['penalty'] == 'l2':\n",
    "            l2_means.append(scores[i][1])\n",
    "        else:\n",
    "            raise ValueError(\"function can't handle given params\")\n",
    "\n",
    "    #plot   \n",
    "    plt.plot(C,l1_means,C,l2_means,'r')\n",
    "    #plt.plot()\n",
    "    plt.semilogx()\n",
    "    plt.legend(['l1 penalty','l2 penalty'],'best')\n",
    "    plt.show()\n",
    "\n"
   ]
  },
  {
   "cell_type": "code",
   "execution_count": 69,
   "metadata": {
    "collapsed": false
   },
   "outputs": [
    {
     "name": "stdout",
     "output_type": "stream",
     "text": [
      "{'penalty': 'l1', 'C': 0.092367085718738612}\n"
     ]
    },
    {
     "data": {
      "image/png": "[encoded data removed]",
      "text/plain": [
       "<matplotlib.figure.Figure at 0x1896f0f0>"
      ]
     },
     "metadata": {},
     "output_type": "display_data"
    }
   ],
   "source": [
    "tuneBaseline()"
   ]
  },
  {
   "cell_type": "code",
   "execution_count": 34,
   "metadata": {
    "collapsed": true
   },
   "outputs": [],
   "source": [
    "\"\"\"\n",
    "VISUALISATION Cell\n",
    "\"\"\"\n",
    "\n",
    "def timeVisualizer():\n",
    "    '''\n",
    "    Visualize time related trends. Does RAOP get more or less generous over time? \n",
    "    Certain times of day? Certain days of week?\n",
    "    '''\n",
    "    raise NotImplementedError\n",
    "\n",
    "def featureImportanceVisualizer(fitted_model):\n",
    "    '''\n",
    "    Takes a fitted model with a 'extractFeatureImportance' method\n",
    "    plots bar graph of features\n",
    "    see http://matplotlib.org/examples/lines_bars_and_markers/barh_demo.html for plotting example\n",
    "    '''\n",
    "    labs,means,std_devs = fitted_model.extractFeatureImportance()\n",
    "    err = std_devs*1.96 #95th percentile confidence interval\n",
    "    \n",
    "    #plot results\n",
    "    y_pos = np.arange(labs.shape[0])\n",
    "    plt.barh(y_pos, means, xerr=err, align='center', alpha=0.4)\n",
    "    plt.yticks(y_pos,labs)\n",
    "    plt.xlabel('Feature importance')\n",
    "    plt.title('Feature importance visualizer')\n",
    "    \n",
    "    plt.show()\n",
    "    \n",
    "    \n",
    "    "
   ]
  }
 ],
 "metadata": {
  "kernelspec": {
   "display_name": "Python 2",
   "language": "python",
   "name": "python2"
  },
  "language_info": {
   "codemirror_mode": {
    "name": "ipython",
    "version": 2
   },
   "file_extension": ".py",
   "mimetype": "text/x-python",
   "name": "python",
   "nbconvert_exporter": "python",
   "pygments_lexer": "ipython2",
   "version": "2.7.6"
  }
 },
 "nbformat": 4,
 "nbformat_minor": 0
}
